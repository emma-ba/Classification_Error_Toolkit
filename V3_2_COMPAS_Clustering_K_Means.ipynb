{
  "nbformat": 4,
  "nbformat_minor": 0,
  "metadata": {
    "colab": {
      "provenance": [],
      "collapsed_sections": [
        "amdTO-ejctkD",
        "WoAA5JWHc_qW",
        "3_mds7crD9Te",
        "l3ZumSo56l9L",
        "ItDl7KeElej3",
        "eIhDa9bdlbKP",
        "bfwAmks0cb0Z",
        "mh3mtFiXSQGE",
        "mw7ZAR6tyVy0",
        "noGzMCHLZCFg"
      ],
      "toc_visible": true,
      "include_colab_link": true
    },
    "kernelspec": {
      "name": "python3",
      "display_name": "Python 3"
    },
    "language_info": {
      "name": "python"
    }
  },
  "cells": [
    {
      "cell_type": "markdown",
      "metadata": {
        "id": "view-in-github",
        "colab_type": "text"
      },
      "source": [
        "<a href=\"https://colab.research.google.com/github/emma-ba/Classification_Error_Toolkit/blob/master/V3_2_COMPAS_Clustering_K_Means.ipynb\" target=\"_parent\"><img src=\"https://colab.research.google.com/assets/colab-badge.svg\" alt=\"Open In Colab\"/></a>"
      ]
    },
    {
      "cell_type": "markdown",
      "source": [
        "# Libraries"
      ],
      "metadata": {
        "id": "amdTO-ejctkD"
      }
    },
    {
      "cell_type": "code",
      "execution_count": 2,
      "metadata": {
        "id": "6p03LXU_cl1D"
      },
      "outputs": [],
      "source": [
        "import numpy as np\n",
        "import matplotlib.pyplot as plt\n",
        "import pandas as pd\n",
        "import seaborn as sns\n",
        "import random\n",
        "import os\n",
        "import math\n",
        "import scipy.stats as stats\n",
        "from sklearn.cluster import KMeans, DBSCAN\n",
        "from sklearn.neighbors import NearestNeighbors\n",
        "from sklearn.cluster import MeanShift, estimate_bandwidth\n",
        "from sklearn.preprocessing import StandardScaler, MinMaxScaler\n",
        "from sklearn.decomposition import PCA\n",
        "from sklearn.manifold import TSNE\n",
        "from scipy import stats\n",
        "from scipy.stats import ttest_ind\n",
        "from scipy.stats import f_oneway\n",
        "\n",
        "import warnings\n",
        "warnings.filterwarnings('ignore')"
      ]
    },
    {
      "cell_type": "markdown",
      "source": [
        "# LOAD (META) DATA"
      ],
      "metadata": {
        "id": "WoAA5JWHc_qW"
      }
    },
    {
      "cell_type": "code",
      "source": [
        "data_shaper = pd.read_csv('https://raw.githubusercontent.com/MDankloff/ClusterCompas/main/Compas_error_shap.csv')"
      ],
      "metadata": {
        "id": "lncfm9EwEifF"
      },
      "execution_count": 3,
      "outputs": []
    },
    {
      "cell_type": "code",
      "source": [
        "data_shaper.info()\n",
        "#data_shaper.iloc[3]"
      ],
      "metadata": {
        "colab": {
          "base_uri": "https://localhost:8080/"
        },
        "id": "l-ikvecoill6",
        "outputId": "7f8191db-ea70-4cc2-c173-8ef06cf198e7"
      },
      "execution_count": 4,
      "outputs": [
        {
          "output_type": "stream",
          "name": "stdout",
          "text": [
            "<class 'pandas.core.frame.DataFrame'>\n",
            "RangeIndex: 2495 entries, 0 to 2494\n",
            "Data columns (total 51 columns):\n",
            " #   Column                             Non-Null Count  Dtype  \n",
            "---  ------                             --------------  -----  \n",
            " 0   age                                2495 non-null   float64\n",
            " 1   decile_score                       2495 non-null   float64\n",
            " 2   priors_count                       2495 non-null   float64\n",
            " 3   sex_Female                         2495 non-null   float64\n",
            " 4   race_African-American              2495 non-null   float64\n",
            " 5   race_Asian                         2495 non-null   float64\n",
            " 6   race_Caucasian                     2495 non-null   float64\n",
            " 7   race_Hispanic                      2495 non-null   float64\n",
            " 8   race_Native American               2495 non-null   float64\n",
            " 9   race_Other                         2495 non-null   float64\n",
            " 10  age_scaled                         2495 non-null   float64\n",
            " 11  decile_score_scaled                2495 non-null   float64\n",
            " 12  priors_count_scaled                2495 non-null   float64\n",
            " 13  sex_Female_scaled                  2495 non-null   float64\n",
            " 14  race_African-American_scaled       2495 non-null   float64\n",
            " 15  race_Asian_scaled                  2495 non-null   float64\n",
            " 16  race_Caucasian_scaled              2495 non-null   float64\n",
            " 17  race_Hispanic_scaled               2495 non-null   float64\n",
            " 18  race_Native American_scaled        2495 non-null   float64\n",
            " 19  race_Other_scaled                  2495 non-null   float64\n",
            " 20  errors                             2495 non-null   float64\n",
            " 21  TP                                 2495 non-null   float64\n",
            " 22  TN                                 2495 non-null   float64\n",
            " 23  FN                                 2495 non-null   float64\n",
            " 24  FP                                 2495 non-null   float64\n",
            " 25  Error_Type                         2495 non-null   object \n",
            " 26  Shap_age                           2495 non-null   float64\n",
            " 27  Shap_decile_score                  2495 non-null   float64\n",
            " 28  Shap_priors_count                  2495 non-null   float64\n",
            " 29  Shap_sex_Female                    2495 non-null   float64\n",
            " 30  Shap_race_African-American         2495 non-null   float64\n",
            " 31  Shap_race_Asian                    2495 non-null   float64\n",
            " 32  Shap_race_Caucasian                2495 non-null   float64\n",
            " 33  Shap_race_Hispanic                 2495 non-null   float64\n",
            " 34  Shap_race_Native American          2495 non-null   float64\n",
            " 35  Shap_race_Other                    2495 non-null   float64\n",
            " 36  Shap_age_scaled                    2495 non-null   float64\n",
            " 37  Shap_decile_score_scaled           2495 non-null   float64\n",
            " 38  Shap_priors_count_scaled           2495 non-null   float64\n",
            " 39  Shap_sex_Female_scaled             2495 non-null   float64\n",
            " 40  Shap_race_African-American_scaled  2495 non-null   float64\n",
            " 41  Shap_race_Asian_scaled             2495 non-null   float64\n",
            " 42  Shap_race_Caucasian_scaled         2495 non-null   float64\n",
            " 43  Shap_race_Hispanic_scaled          2495 non-null   float64\n",
            " 44  Shap_race_Native American_scaled   2495 non-null   float64\n",
            " 45  Shap_race_Other_scaled             2495 non-null   float64\n",
            " 46  errors_scaled                      2495 non-null   float64\n",
            " 47  TP_scaled                          2495 non-null   float64\n",
            " 48  TN_scaled                          2495 non-null   float64\n",
            " 49  FN_scaled                          2495 non-null   float64\n",
            " 50  FP_scaled                          2495 non-null   float64\n",
            "dtypes: float64(50), object(1)\n",
            "memory usage: 994.2+ KB\n"
          ]
        }
      ]
    },
    {
      "cell_type": "code",
      "source": [
        "data_shaper.head()"
      ],
      "metadata": {
        "colab": {
          "base_uri": "https://localhost:8080/",
          "height": 0
        },
        "id": "jc-km5lzhpMd",
        "outputId": "a89d9b87-44ad-4cdf-c701-1d6de11ef6d7"
      },
      "execution_count": 5,
      "outputs": [
        {
          "output_type": "execute_result",
          "data": {
            "text/plain": [
              "    age  decile_score  priors_count  sex_Female  race_African-American  \\\n",
              "0  33.0           4.0           6.0         1.0                    1.0   \n",
              "1  34.0           1.0           3.0         0.0                    1.0   \n",
              "2  30.0           3.0           0.0         1.0                    1.0   \n",
              "3  31.0          10.0           5.0         0.0                    1.0   \n",
              "4  34.0           1.0           0.0         0.0                    0.0   \n",
              "\n",
              "   race_Asian  race_Caucasian  race_Hispanic  race_Native American  \\\n",
              "0         0.0             0.0            0.0                   0.0   \n",
              "1         0.0             0.0            0.0                   0.0   \n",
              "2         0.0             0.0            0.0                   0.0   \n",
              "3         0.0             0.0            0.0                   0.0   \n",
              "4         0.0             1.0            0.0                   0.0   \n",
              "\n",
              "   race_Other  ...  Shap_race_Asian_scaled  Shap_race_Caucasian_scaled  \\\n",
              "0         0.0  ...               -0.212022                   -0.028428   \n",
              "1         0.0  ...               -0.028091                    0.751564   \n",
              "2         0.0  ...                0.106145                    0.325008   \n",
              "3         0.0  ...                0.067103                    0.123069   \n",
              "4         0.0  ...               -0.048034                    0.499824   \n",
              "\n",
              "   Shap_race_Hispanic_scaled  Shap_race_Native American_scaled  \\\n",
              "0                   0.297156                          0.049157   \n",
              "1                  -1.452893                          0.049157   \n",
              "2                  -0.065022                          0.049157   \n",
              "3                   0.007584                          0.049157   \n",
              "4                   0.172228                          0.049157   \n",
              "\n",
              "   Shap_race_Other_scaled  errors_scaled  TP_scaled  TN_scaled  FN_scaled  \\\n",
              "0                0.329638       1.303607  -0.575723  -0.783884   2.014923   \n",
              "1               -0.328178      -0.767102   1.736948  -0.783884  -0.496297   \n",
              "2                0.032566       1.303607  -0.575723  -0.783884   2.014923   \n",
              "3                0.170190      -0.767102  -0.575723   1.275699  -0.496297   \n",
              "4                0.012654      -0.767102  -0.575723   1.275699  -0.496297   \n",
              "\n",
              "   FP_scaled  \n",
              "0  -0.457088  \n",
              "1  -0.457088  \n",
              "2  -0.457088  \n",
              "3  -0.457088  \n",
              "4  -0.457088  \n",
              "\n",
              "[5 rows x 51 columns]"
            ],
            "text/html": [
              "\n",
              "  <div id=\"df-e6ddd591-e584-407f-a195-5ef7fdeb8b6b\" class=\"colab-df-container\">\n",
              "    <div>\n",
              "<style scoped>\n",
              "    .dataframe tbody tr th:only-of-type {\n",
              "        vertical-align: middle;\n",
              "    }\n",
              "\n",
              "    .dataframe tbody tr th {\n",
              "        vertical-align: top;\n",
              "    }\n",
              "\n",
              "    .dataframe thead th {\n",
              "        text-align: right;\n",
              "    }\n",
              "</style>\n",
              "<table border=\"1\" class=\"dataframe\">\n",
              "  <thead>\n",
              "    <tr style=\"text-align: right;\">\n",
              "      <th></th>\n",
              "      <th>age</th>\n",
              "      <th>decile_score</th>\n",
              "      <th>priors_count</th>\n",
              "      <th>sex_Female</th>\n",
              "      <th>race_African-American</th>\n",
              "      <th>race_Asian</th>\n",
              "      <th>race_Caucasian</th>\n",
              "      <th>race_Hispanic</th>\n",
              "      <th>race_Native American</th>\n",
              "      <th>race_Other</th>\n",
              "      <th>...</th>\n",
              "      <th>Shap_race_Asian_scaled</th>\n",
              "      <th>Shap_race_Caucasian_scaled</th>\n",
              "      <th>Shap_race_Hispanic_scaled</th>\n",
              "      <th>Shap_race_Native American_scaled</th>\n",
              "      <th>Shap_race_Other_scaled</th>\n",
              "      <th>errors_scaled</th>\n",
              "      <th>TP_scaled</th>\n",
              "      <th>TN_scaled</th>\n",
              "      <th>FN_scaled</th>\n",
              "      <th>FP_scaled</th>\n",
              "    </tr>\n",
              "  </thead>\n",
              "  <tbody>\n",
              "    <tr>\n",
              "      <th>0</th>\n",
              "      <td>33.0</td>\n",
              "      <td>4.0</td>\n",
              "      <td>6.0</td>\n",
              "      <td>1.0</td>\n",
              "      <td>1.0</td>\n",
              "      <td>0.0</td>\n",
              "      <td>0.0</td>\n",
              "      <td>0.0</td>\n",
              "      <td>0.0</td>\n",
              "      <td>0.0</td>\n",
              "      <td>...</td>\n",
              "      <td>-0.212022</td>\n",
              "      <td>-0.028428</td>\n",
              "      <td>0.297156</td>\n",
              "      <td>0.049157</td>\n",
              "      <td>0.329638</td>\n",
              "      <td>1.303607</td>\n",
              "      <td>-0.575723</td>\n",
              "      <td>-0.783884</td>\n",
              "      <td>2.014923</td>\n",
              "      <td>-0.457088</td>\n",
              "    </tr>\n",
              "    <tr>\n",
              "      <th>1</th>\n",
              "      <td>34.0</td>\n",
              "      <td>1.0</td>\n",
              "      <td>3.0</td>\n",
              "      <td>0.0</td>\n",
              "      <td>1.0</td>\n",
              "      <td>0.0</td>\n",
              "      <td>0.0</td>\n",
              "      <td>0.0</td>\n",
              "      <td>0.0</td>\n",
              "      <td>0.0</td>\n",
              "      <td>...</td>\n",
              "      <td>-0.028091</td>\n",
              "      <td>0.751564</td>\n",
              "      <td>-1.452893</td>\n",
              "      <td>0.049157</td>\n",
              "      <td>-0.328178</td>\n",
              "      <td>-0.767102</td>\n",
              "      <td>1.736948</td>\n",
              "      <td>-0.783884</td>\n",
              "      <td>-0.496297</td>\n",
              "      <td>-0.457088</td>\n",
              "    </tr>\n",
              "    <tr>\n",
              "      <th>2</th>\n",
              "      <td>30.0</td>\n",
              "      <td>3.0</td>\n",
              "      <td>0.0</td>\n",
              "      <td>1.0</td>\n",
              "      <td>1.0</td>\n",
              "      <td>0.0</td>\n",
              "      <td>0.0</td>\n",
              "      <td>0.0</td>\n",
              "      <td>0.0</td>\n",
              "      <td>0.0</td>\n",
              "      <td>...</td>\n",
              "      <td>0.106145</td>\n",
              "      <td>0.325008</td>\n",
              "      <td>-0.065022</td>\n",
              "      <td>0.049157</td>\n",
              "      <td>0.032566</td>\n",
              "      <td>1.303607</td>\n",
              "      <td>-0.575723</td>\n",
              "      <td>-0.783884</td>\n",
              "      <td>2.014923</td>\n",
              "      <td>-0.457088</td>\n",
              "    </tr>\n",
              "    <tr>\n",
              "      <th>3</th>\n",
              "      <td>31.0</td>\n",
              "      <td>10.0</td>\n",
              "      <td>5.0</td>\n",
              "      <td>0.0</td>\n",
              "      <td>1.0</td>\n",
              "      <td>0.0</td>\n",
              "      <td>0.0</td>\n",
              "      <td>0.0</td>\n",
              "      <td>0.0</td>\n",
              "      <td>0.0</td>\n",
              "      <td>...</td>\n",
              "      <td>0.067103</td>\n",
              "      <td>0.123069</td>\n",
              "      <td>0.007584</td>\n",
              "      <td>0.049157</td>\n",
              "      <td>0.170190</td>\n",
              "      <td>-0.767102</td>\n",
              "      <td>-0.575723</td>\n",
              "      <td>1.275699</td>\n",
              "      <td>-0.496297</td>\n",
              "      <td>-0.457088</td>\n",
              "    </tr>\n",
              "    <tr>\n",
              "      <th>4</th>\n",
              "      <td>34.0</td>\n",
              "      <td>1.0</td>\n",
              "      <td>0.0</td>\n",
              "      <td>0.0</td>\n",
              "      <td>0.0</td>\n",
              "      <td>0.0</td>\n",
              "      <td>1.0</td>\n",
              "      <td>0.0</td>\n",
              "      <td>0.0</td>\n",
              "      <td>0.0</td>\n",
              "      <td>...</td>\n",
              "      <td>-0.048034</td>\n",
              "      <td>0.499824</td>\n",
              "      <td>0.172228</td>\n",
              "      <td>0.049157</td>\n",
              "      <td>0.012654</td>\n",
              "      <td>-0.767102</td>\n",
              "      <td>-0.575723</td>\n",
              "      <td>1.275699</td>\n",
              "      <td>-0.496297</td>\n",
              "      <td>-0.457088</td>\n",
              "    </tr>\n",
              "  </tbody>\n",
              "</table>\n",
              "<p>5 rows × 51 columns</p>\n",
              "</div>\n",
              "    <div class=\"colab-df-buttons\">\n",
              "\n",
              "  <div class=\"colab-df-container\">\n",
              "    <button class=\"colab-df-convert\" onclick=\"convertToInteractive('df-e6ddd591-e584-407f-a195-5ef7fdeb8b6b')\"\n",
              "            title=\"Convert this dataframe to an interactive table.\"\n",
              "            style=\"display:none;\">\n",
              "\n",
              "  <svg xmlns=\"http://www.w3.org/2000/svg\" height=\"24px\" viewBox=\"0 -960 960 960\">\n",
              "    <path d=\"M120-120v-720h720v720H120Zm60-500h600v-160H180v160Zm220 220h160v-160H400v160Zm0 220h160v-160H400v160ZM180-400h160v-160H180v160Zm440 0h160v-160H620v160ZM180-180h160v-160H180v160Zm440 0h160v-160H620v160Z\"/>\n",
              "  </svg>\n",
              "    </button>\n",
              "\n",
              "  <style>\n",
              "    .colab-df-container {\n",
              "      display:flex;\n",
              "      gap: 12px;\n",
              "    }\n",
              "\n",
              "    .colab-df-convert {\n",
              "      background-color: #E8F0FE;\n",
              "      border: none;\n",
              "      border-radius: 50%;\n",
              "      cursor: pointer;\n",
              "      display: none;\n",
              "      fill: #1967D2;\n",
              "      height: 32px;\n",
              "      padding: 0 0 0 0;\n",
              "      width: 32px;\n",
              "    }\n",
              "\n",
              "    .colab-df-convert:hover {\n",
              "      background-color: #E2EBFA;\n",
              "      box-shadow: 0px 1px 2px rgba(60, 64, 67, 0.3), 0px 1px 3px 1px rgba(60, 64, 67, 0.15);\n",
              "      fill: #174EA6;\n",
              "    }\n",
              "\n",
              "    .colab-df-buttons div {\n",
              "      margin-bottom: 4px;\n",
              "    }\n",
              "\n",
              "    [theme=dark] .colab-df-convert {\n",
              "      background-color: #3B4455;\n",
              "      fill: #D2E3FC;\n",
              "    }\n",
              "\n",
              "    [theme=dark] .colab-df-convert:hover {\n",
              "      background-color: #434B5C;\n",
              "      box-shadow: 0px 1px 3px 1px rgba(0, 0, 0, 0.15);\n",
              "      filter: drop-shadow(0px 1px 2px rgba(0, 0, 0, 0.3));\n",
              "      fill: #FFFFFF;\n",
              "    }\n",
              "  </style>\n",
              "\n",
              "    <script>\n",
              "      const buttonEl =\n",
              "        document.querySelector('#df-e6ddd591-e584-407f-a195-5ef7fdeb8b6b button.colab-df-convert');\n",
              "      buttonEl.style.display =\n",
              "        google.colab.kernel.accessAllowed ? 'block' : 'none';\n",
              "\n",
              "      async function convertToInteractive(key) {\n",
              "        const element = document.querySelector('#df-e6ddd591-e584-407f-a195-5ef7fdeb8b6b');\n",
              "        const dataTable =\n",
              "          await google.colab.kernel.invokeFunction('convertToInteractive',\n",
              "                                                    [key], {});\n",
              "        if (!dataTable) return;\n",
              "\n",
              "        const docLinkHtml = 'Like what you see? Visit the ' +\n",
              "          '<a target=\"_blank\" href=https://colab.research.google.com/notebooks/data_table.ipynb>data table notebook</a>'\n",
              "          + ' to learn more about interactive tables.';\n",
              "        element.innerHTML = '';\n",
              "        dataTable['output_type'] = 'display_data';\n",
              "        await google.colab.output.renderOutput(dataTable, element);\n",
              "        const docLink = document.createElement('div');\n",
              "        docLink.innerHTML = docLinkHtml;\n",
              "        element.appendChild(docLink);\n",
              "      }\n",
              "    </script>\n",
              "  </div>\n",
              "\n",
              "\n",
              "<div id=\"df-4260a867-54bc-44d2-9f37-930fc1047111\">\n",
              "  <button class=\"colab-df-quickchart\" onclick=\"quickchart('df-4260a867-54bc-44d2-9f37-930fc1047111')\"\n",
              "            title=\"Suggest charts\"\n",
              "            style=\"display:none;\">\n",
              "\n",
              "<svg xmlns=\"http://www.w3.org/2000/svg\" height=\"24px\"viewBox=\"0 0 24 24\"\n",
              "     width=\"24px\">\n",
              "    <g>\n",
              "        <path d=\"M19 3H5c-1.1 0-2 .9-2 2v14c0 1.1.9 2 2 2h14c1.1 0 2-.9 2-2V5c0-1.1-.9-2-2-2zM9 17H7v-7h2v7zm4 0h-2V7h2v10zm4 0h-2v-4h2v4z\"/>\n",
              "    </g>\n",
              "</svg>\n",
              "  </button>\n",
              "\n",
              "<style>\n",
              "  .colab-df-quickchart {\n",
              "      --bg-color: #E8F0FE;\n",
              "      --fill-color: #1967D2;\n",
              "      --hover-bg-color: #E2EBFA;\n",
              "      --hover-fill-color: #174EA6;\n",
              "      --disabled-fill-color: #AAA;\n",
              "      --disabled-bg-color: #DDD;\n",
              "  }\n",
              "\n",
              "  [theme=dark] .colab-df-quickchart {\n",
              "      --bg-color: #3B4455;\n",
              "      --fill-color: #D2E3FC;\n",
              "      --hover-bg-color: #434B5C;\n",
              "      --hover-fill-color: #FFFFFF;\n",
              "      --disabled-bg-color: #3B4455;\n",
              "      --disabled-fill-color: #666;\n",
              "  }\n",
              "\n",
              "  .colab-df-quickchart {\n",
              "    background-color: var(--bg-color);\n",
              "    border: none;\n",
              "    border-radius: 50%;\n",
              "    cursor: pointer;\n",
              "    display: none;\n",
              "    fill: var(--fill-color);\n",
              "    height: 32px;\n",
              "    padding: 0;\n",
              "    width: 32px;\n",
              "  }\n",
              "\n",
              "  .colab-df-quickchart:hover {\n",
              "    background-color: var(--hover-bg-color);\n",
              "    box-shadow: 0 1px 2px rgba(60, 64, 67, 0.3), 0 1px 3px 1px rgba(60, 64, 67, 0.15);\n",
              "    fill: var(--button-hover-fill-color);\n",
              "  }\n",
              "\n",
              "  .colab-df-quickchart-complete:disabled,\n",
              "  .colab-df-quickchart-complete:disabled:hover {\n",
              "    background-color: var(--disabled-bg-color);\n",
              "    fill: var(--disabled-fill-color);\n",
              "    box-shadow: none;\n",
              "  }\n",
              "\n",
              "  .colab-df-spinner {\n",
              "    border: 2px solid var(--fill-color);\n",
              "    border-color: transparent;\n",
              "    border-bottom-color: var(--fill-color);\n",
              "    animation:\n",
              "      spin 1s steps(1) infinite;\n",
              "  }\n",
              "\n",
              "  @keyframes spin {\n",
              "    0% {\n",
              "      border-color: transparent;\n",
              "      border-bottom-color: var(--fill-color);\n",
              "      border-left-color: var(--fill-color);\n",
              "    }\n",
              "    20% {\n",
              "      border-color: transparent;\n",
              "      border-left-color: var(--fill-color);\n",
              "      border-top-color: var(--fill-color);\n",
              "    }\n",
              "    30% {\n",
              "      border-color: transparent;\n",
              "      border-left-color: var(--fill-color);\n",
              "      border-top-color: var(--fill-color);\n",
              "      border-right-color: var(--fill-color);\n",
              "    }\n",
              "    40% {\n",
              "      border-color: transparent;\n",
              "      border-right-color: var(--fill-color);\n",
              "      border-top-color: var(--fill-color);\n",
              "    }\n",
              "    60% {\n",
              "      border-color: transparent;\n",
              "      border-right-color: var(--fill-color);\n",
              "    }\n",
              "    80% {\n",
              "      border-color: transparent;\n",
              "      border-right-color: var(--fill-color);\n",
              "      border-bottom-color: var(--fill-color);\n",
              "    }\n",
              "    90% {\n",
              "      border-color: transparent;\n",
              "      border-bottom-color: var(--fill-color);\n",
              "    }\n",
              "  }\n",
              "</style>\n",
              "\n",
              "  <script>\n",
              "    async function quickchart(key) {\n",
              "      const quickchartButtonEl =\n",
              "        document.querySelector('#' + key + ' button');\n",
              "      quickchartButtonEl.disabled = true;  // To prevent multiple clicks.\n",
              "      quickchartButtonEl.classList.add('colab-df-spinner');\n",
              "      try {\n",
              "        const charts = await google.colab.kernel.invokeFunction(\n",
              "            'suggestCharts', [key], {});\n",
              "      } catch (error) {\n",
              "        console.error('Error during call to suggestCharts:', error);\n",
              "      }\n",
              "      quickchartButtonEl.classList.remove('colab-df-spinner');\n",
              "      quickchartButtonEl.classList.add('colab-df-quickchart-complete');\n",
              "    }\n",
              "    (() => {\n",
              "      let quickchartButtonEl =\n",
              "        document.querySelector('#df-4260a867-54bc-44d2-9f37-930fc1047111 button');\n",
              "      quickchartButtonEl.style.display =\n",
              "        google.colab.kernel.accessAllowed ? 'block' : 'none';\n",
              "    })();\n",
              "  </script>\n",
              "</div>\n",
              "\n",
              "    </div>\n",
              "  </div>\n"
            ],
            "application/vnd.google.colaboratory.intrinsic+json": {
              "type": "dataframe",
              "variable_name": "data_shaper"
            }
          },
          "metadata": {},
          "execution_count": 5
        }
      ]
    },
    {
      "cell_type": "markdown",
      "source": [
        "# UTILS (all)"
      ],
      "metadata": {
        "id": "4MqNY1T7k9jg"
      }
    },
    {
      "cell_type": "markdown",
      "source": [
        "## Sets of Features (aka data columns)"
      ],
      "metadata": {
        "id": "JqctCmy6vKT6"
      }
    },
    {
      "cell_type": "code",
      "source": [
        "#Master Dataset\n",
        "META_COL = ['clusters', 'new_clusters']\n",
        "META_COL_VIZ = ['Error_Type']\n",
        "\n",
        "ERROR_COL = ['errors', 'TP', 'TN', 'FN', 'FP']\n",
        "BASIC_COL = ['age', 'decile_score', 'priors_count']\n",
        "DUMMY_COL = ['sex_Female','race_African-American', 'race_Asian', 'race_Caucasian', 'race_Hispanic',\n",
        "                      'race_Native American', 'race_Other']\n",
        "\n",
        "ERROR_COL_scaled = ['errors_scaled'] #, 'TP_scaled', 'TN_scaled', 'FN_scaled', 'FP_scaled']\n",
        "BASIC_COL_scaled = ['age_scaled', 'decile_score_scaled', 'priors_count_scaled']\n",
        "DUMMY_COL_scaled = ['sex_Female_scaled', 'race_Native American_scaled','race_Other_scaled',\n",
        "                'race_African-American_scaled', 'race_Asian_scaled', 'race_Caucasian_scaled', 'race_Hispanic_scaled']\n",
        "DUMMY_COL_scaled_light = ['sex_Female_scaled', 'race_African-American_scaled', 'race_Caucasian_scaled']\n",
        "\n",
        "#SHAP is created on BASIC_COL_scaled and DUMMY_COL_scaled\n",
        "SHAP_BASIC = ['Shap_age', 'Shap_decile_score', 'Shap_priors_count']\n",
        "SHAP_DUMMY = ['Shap_sex_Female','Shap_race_African-American', 'Shap_race_Asian', 'Shap_race_Caucasian',\n",
        "                         'Shap_race_Hispanic', 'Shap_race_Native American', 'Shap_race_Other']\n",
        "\n",
        "SHAP_BASIC_scaled = ['Shap_age_scaled', 'Shap_decile_score_scaled', 'Shap_priors_count_scaled']\n",
        "SHAP_DUMMY_scaled = ['Shap_sex_Female_scaled','Shap_race_African-American_scaled',\n",
        "                     'Shap_race_Asian_scaled', 'Shap_race_Caucasian_scaled','Shap_race_Hispanic_scaled',\n",
        "                     'Shap_race_Native American_scaled', 'Shap_race_Other_scaled']\n",
        "SHAP_DUMMY_scaled_light = ['Shap_sex_Female_scaled','Shap_race_African-American_scaled','Shap_race_Caucasian_scaled']"
      ],
      "metadata": {
        "id": "Ot8djK6adHLL"
      },
      "execution_count": 90,
      "outputs": []
    },
    {
      "cell_type": "markdown",
      "source": [
        "## DATA PREP UTILS"
      ],
      "metadata": {
        "id": "3_mds7crD9Te"
      }
    },
    {
      "cell_type": "code",
      "source": [
        "#Seperate TPFN & TNFP dataset\n",
        "'''Drop rows where both TP and FN are 0 '''\n",
        "def subset_TP_FN(data):\n",
        "    return data.loc[(data['TP'] == 1) | (data['FN'] == 1)]\n",
        "\n",
        "'''Drop rows where both TN and FP are 0'''\n",
        "def subset_TN_FP(data):\n",
        "    return data.loc[(data['TN'] == 1) | (data['FP'] == 1)]"
      ],
      "metadata": {
        "id": "8A9b1ah7dR22"
      },
      "execution_count": 7,
      "outputs": []
    },
    {
      "cell_type": "code",
      "source": [
        "'''undo Dummy for DUMMY_RACE or DUMMY_GENDER'''\n",
        "def undo_dummy(data, with_Dummy, col_label, numeric_values=True, short_label=None):\n",
        "  data[col_label] = ''\n",
        "  for i, c in enumerate(with_Dummy):\n",
        "    values = np.sort(data[c].unique())\n",
        "    if numeric_values:\n",
        "      data.loc[data[c] == values[1], col_label] = i\n",
        "    else:\n",
        "      if short_label is None:\n",
        "        raise ValueError(\"short label must be provided if numeric_values is False\")\n",
        "        data.loc[data[c] == values[1], col_label] = short_label[i]\n",
        "    data = data.drop(c, axis=1)\n",
        "  return(data)\n",
        "\n",
        "#data = undo_dummy(data, DUMMY_RACE, col_label='race', numeric_values=False, short_label=SHORT_LABEL_RACE)\n",
        "#data = undo_dummy(data, DUMMY_GENDER, col_label='gender', numeric_values=False, short_label=SHORT_LABEL_GENDER)"
      ],
      "metadata": {
        "id": "bYnrCZPlw8Of"
      },
      "execution_count": 8,
      "outputs": []
    },
    {
      "cell_type": "code",
      "source": [
        "def initialize_dataset(data):\n",
        "    # Make deep copy of the dataset\n",
        "    new_data = data.copy(deep=True)\n",
        "\n",
        "    # Initialize clusters and new_clusters columns\n",
        "    new_data['clusters'] = 0\n",
        "    new_data['new_clusters'] = -1\n",
        "\n",
        "    return new_data"
      ],
      "metadata": {
        "id": "hv-wMxciCkAV"
      },
      "execution_count": 9,
      "outputs": []
    },
    {
      "cell_type": "markdown",
      "source": [
        "## UTILS for BIAS in ERROR DIFFERENCE"
      ],
      "metadata": {
        "id": "l3ZumSo56l9L"
      }
    },
    {
      "cell_type": "code",
      "source": [
        "# Calculate average Error rate based on unscaled error rate by counting the amount of max values (1) and dividing them by the total nr of rows - replacing old accuracy_error() from V1\n",
        "# Does not work on scaled (binary) error features\n",
        "def get_error_rate(data, column='errors'):\n",
        "  if len(data) == 0:\n",
        "    print ('calculating error rate on an empty set')\n",
        "    return\n",
        "  max_value = data[column].max()\n",
        "  count_max_value = (data[column] == max_value).sum()\n",
        "  average_error_rate = count_max_value / len(data)\n",
        "  return average_error_rate\n",
        "\n",
        "'''Calculate BIAS in terms of Error Difference\n",
        "bias_type can be 'negative', 'positive' or 'absolute'\n",
        "baseline can be 'all' which is the overall error rate, or 'other' or 'best' '''\n",
        "\n",
        "def get_error_diff(data, cluster_id, cluster_col, bias_type = 'negative', baseline= 'all'):\n",
        "  cluster_x= data.loc[data[cluster_col] == cluster_id]\n",
        "  remaining_clusters = data.loc[data[cluster_col] != cluster_id]\n",
        "\n",
        "  if len(cluster_x) == 0:\n",
        "    print ('calculating error difference on an empty cluster')\n",
        "    return\n",
        "\n",
        "  if baseline == 'all':\n",
        "    error_diff = get_error_rate(cluster_x) - get_error_rate(data)\n",
        "\n",
        "  elif baseline == 'other':\n",
        "    if len(remaining_clusters) == 0:\n",
        "      print (\"This cluster is the entire dataset. Cluster:\", cluster_id)\n",
        "      return\n",
        "    error_diff = get_error_rate(cluster_x) - get_error_rate(remaining_clusters)\n",
        "\n",
        "  elif baseline == 'best':\n",
        "    best_cluster = get_min_bias_cluster(data, cluster_col, bias_type, baseline)\n",
        "    error_diff = get_error_rate(cluster_x) - best_cluster[1]\n",
        "\n",
        "  else:\n",
        "    print ('unknown baseline')\n",
        "    return\n",
        "\n",
        "  #if full_info:\n",
        "    #return [error_diff, function(cluster_x), function(remaining_clusters)]\n",
        "\n",
        "  if bias_type == 'negative':\n",
        "    pass #no change needed\n",
        "  elif bias_type == 'positive':\n",
        "    error_diff = -error_diff\n",
        "  elif bias_type == 'absolute':\n",
        "    error_diff = np.absolute(error_diff)\n",
        "  else:\n",
        "    print(\"unknown bias type\")\n",
        "    return\n",
        "\n",
        "  return error_diff"
      ],
      "metadata": {
        "id": "PhGil8f663vU"
      },
      "execution_count": 10,
      "outputs": []
    },
    {
      "cell_type": "markdown",
      "source": [
        "## UTILS FOR CLUSTERING"
      ],
      "metadata": {
        "id": "URIWoUpSfBLC"
      }
    },
    {
      "cell_type": "code",
      "source": [
        "def get_next_cluster(data, cluster_col, min_size, all_cluster_ids, banned_clusters):\n",
        "  if(len(banned_clusters) != 0):\n",
        "    mask = np.isin(all_cluster_ids, banned_clusters, invert=True)\n",
        "    all_cluster_ids = all_cluster_ids[mask]\n",
        "\n",
        "  for candidate_cluster_id in all_cluster_ids:\n",
        "    if candidate_cluster_id == -1:\n",
        "      continue\n",
        "\n",
        "    #print ('This is the next cluster:', candidate_cluster_id)\n",
        "\n",
        "    candidate_cluster = data.loc[data[cluster_col] == candidate_cluster_id]\n",
        "\n",
        "    if len(candidate_cluster) < min_size:\n",
        "      #print('...it is too small:', len(candidate_cluster))\n",
        "      continue\n",
        "    else:\n",
        "      return(candidate_cluster_id)\n",
        "\n",
        "  #print('No suitable clusters were found!')\n",
        "  return(-1)"
      ],
      "metadata": {
        "id": "P10PS56u-4qJ"
      },
      "execution_count": 59,
      "outputs": []
    },
    {
      "cell_type": "code",
      "source": [
        "# [!!! OLD !!!]\n",
        "#get cluster with max error difference\n",
        "def get_max_bias_cluster(data, cluster_col= 'clusters', bias_type = 'negative', baseline = 'all', function = get_error_diff):\n",
        "  max_bias = 0 #min possible bias\n",
        "  max_bias_cluster = -2\n",
        "\n",
        "  for cluster_id in data[cluster_col].unique():\n",
        "    if cluster_id == -1: #outliers in dbscan\n",
        "      continue\n",
        "\n",
        "    current_bias = function(data, cluster_id, cluster_col, bias_type, baseline) #pos function to find highest bias\n",
        "\n",
        "    if current_bias > max_bias:\n",
        "      max_bias = current_bias\n",
        "      max_bias_cluster = cluster_id\n",
        "\n",
        "    return(max_bias_cluster, max_bias)\n",
        "\n",
        "#get cluster with min error difference\n",
        "def get_min_bias_cluster(data, cluster_col= 'clusters', bias_type = 'negative', baseline = 'all', function = get_error_diff):\n",
        "  min_bias = 1 #max possible bias and look for smt smaller\n",
        "  min_bias_cluster = -2\n",
        "\n",
        "  for cluster_id in data[cluster_col].unique():\n",
        "    if cluster_id == -1: #outliers in dbscan\n",
        "      continue\n",
        "    current_bias = function(data, cluster_id, cluster_col, bias_type, baseline)\n",
        "    if current_bias < min_bias:\n",
        "      min_bias = current_bias\n",
        "      min_bias_cluster = cluster_id\n",
        "  return(min_bias_cluster, min_bias)\n",
        "\n",
        "#get size of the smallest cluster\n",
        "def get_min_cluster_size(data, cluster_col = 'new_clusters'):\n",
        "  min_cluster_size = len(data)\n",
        "  for i in data['new_clusters'].unique():\n",
        "    if i == -1: #exclude the -1 clusters as they may present outliers (in dbscan?)\n",
        "      continue\n",
        "      size = len(data.loc[data['new_clusters'] == i])\n",
        "      if size < min_cluster_size: #update if new cluster size is smaller\n",
        "        min_cluster_size = size\n",
        "  return(min_cluster_size)\n",
        "\n",
        "def select_new_cluster(data, cluster_col='clusters', error_column='errors', overall_error_rate=0.5, bias_type='negative', baseline='all'):\n",
        "    smallest_diff = float('inf')\n",
        "    selected_cluster = None\n",
        "\n",
        "    for cluster_id in data[cluster_col].unique():\n",
        "        if cluster_id == -1: #skip outlier\n",
        "            continue\n",
        "\n",
        "        error_diff = get_error_diff(data, cluster_id, cluster_col, bias_type, baseline) #calculate the error_diff for each cluster\n",
        "\n",
        "        if error_diff is None:\n",
        "            continue\n",
        "\n",
        "        abs_diff = abs(overall_error_rate - (get_error_rate(data[data[cluster_col] == cluster_id]))) #get cluster with the smallest absolute difference with the overall error rate (0.5)\n",
        "\n",
        "        if abs_diff < smallest_diff:\n",
        "            smallest_diff = abs_diff\n",
        "            selected_cluster = cluster_id\n",
        "    return selected_cluster\n",
        "\n",
        "def exit_clustering(data, msg='', bias_type='', iter=''):\n",
        "  print('Iteration ', iter, ': ', msg)\n",
        "  print('Overall error rate: ', get_error_rate(data))\n",
        "  for c in np.sort(data['clusters'].unique()):\n",
        "    print('Cluster: ', c, '\\tSize: ', len(data.loc[data['clusters'] == c]), '\\tError rate: ', get_error_rate(data.loc[data['clusters'] == c]))\n",
        "  pca_plot(data,'HBAC-DBSCAN on COMPAS - ' + bias_type + ' bias', hue='clusters', s=15, alpha=0.8)\n",
        "  return data\n"
      ],
      "metadata": {
        "id": "zApFFYGVfERC"
      },
      "execution_count": 12,
      "outputs": []
    },
    {
      "cell_type": "markdown",
      "source": [
        "## UTILS for VIZ"
      ],
      "metadata": {
        "id": "ItDl7KeElej3"
      }
    },
    {
      "cell_type": "markdown",
      "source": [
        "### PCA"
      ],
      "metadata": {
        "id": "9woyQpSZmBre"
      }
    },
    {
      "cell_type": "code",
      "source": [
        "def pca_plot(data, title, perplexity, learning_rate, n_iter, alpha, pca_columns= [], other_columns=[], error='error'):\n",
        "\n",
        "    if title is None:\n",
        "        title = f'K-means for {error}\\n'\n",
        "\n",
        "    # Extract features for t-SNE and drop other_columns\n",
        "    pca_features = data[pca_columns]\n",
        "    other_columns = [col for col in data.columns if col not in pca_features]\n",
        "    other_features = data[other_columns]\n",
        "\n",
        "    tsne = TSNE(n_components=2, perplexity= 30, learning_rate= 200, n_iter= 1000)\n",
        "    tsne_result = tsne.fit_transform(tsne_features)\n",
        "    tsne_df = pd.DataFrame(tsne_result, index = tsne_features.index, columns=['t-SNE Component 1', 't-SNE Component 2'])\n",
        "\n",
        "    # Apply PCA with 2 components to scaled features and create a df for the resulting principal components\n",
        "    pca = PCA(n_components=2)\n",
        "    pca_result = pca.fit_transform(pca_features)\n",
        "    pca_df = pd.DataFrame(pca_result, index=pca_features.index, columns=['PC1', 'PC2'])\n",
        "\n",
        "    # Create temporary dataset that contains both principal components and other features\n",
        "    temp_dataset = pca_df.join(other_features, how='left')\n",
        "\n",
        "    scatterplot = sns.scatterplot(data=temp_dataset, x='PC1', y='PC2', alpha=alpha, hue=\"Error_Type\", palette='tab10', style='Error_Type')\n",
        "    scatterplot.set_title(title)\n",
        "    scatterplot.legend(loc='center left', bbox_to_anchor=(1.0, 0.5), ncol=1)\n",
        "\n",
        "    explained_variance_ratio = pca.explained_variance_ratio_\n",
        "    print(f\"Explained Variance Ratio: PC1 = {explained_variance_ratio[0]:.2f}, PC2 = {explained_variance_ratio[1]:.2f}\")\n",
        "\n",
        "    plt.show()"
      ],
      "metadata": {
        "id": "LIJzCOJemBBe"
      },
      "execution_count": 13,
      "outputs": []
    },
    {
      "cell_type": "markdown",
      "source": [
        "### TSNE"
      ],
      "metadata": {
        "id": "VDJTr4pPmIMe"
      }
    },
    {
      "cell_type": "code",
      "source": [
        "'''\n",
        "PARAMS:\n",
        "    - alpha: float, transparency level for plot points\n",
        "    - tsne_columns: list of str, columns used for t-SNE\n",
        "    - error: str type for title\n",
        "    - perplexity: float, perplexity parameter for t-SNE\n",
        "    - learning_rate: float,learning rate parameter for t-SNE\n",
        "    - other_columns: list of str, other columns to include in the plot\n",
        "'''\n",
        "\n",
        "def tsne_plot(data, title, perplexity, learning_rate, n_iter, alpha, tsne_columns= [], other_columns=[], error='error'):\n",
        "\n",
        "    if title is None:\n",
        "        title = f'K-means for {error}\\n'\n",
        "\n",
        "    # Extract features for t-SNE and drop other_columns\n",
        "    tsne_features = data[tsne_columns]\n",
        "    other_columns = [col for col in data.columns if col not in tsne_features]\n",
        "    other_features = data[other_columns]\n",
        "\n",
        "    tsne = TSNE(n_components=2, perplexity= 30, learning_rate= 200, n_iter= 1000)\n",
        "    tsne_result = tsne.fit_transform(tsne_features)\n",
        "    tsne_df = pd.DataFrame(tsne_result, index = tsne_features.index, columns=['t-SNE Component 1', 't-SNE Component 2'])\n",
        "\n",
        "    temp_dataset = tsne_df.join(other_features, how='left')\n",
        "\n",
        "    # Create scatterplot using seaborn\n",
        "    scatterplot = sns.scatterplot(data=temp_dataset, x='t-SNE Component 1', y='t-SNE Component 2', alpha=alpha, hue=\"Error_Type\", palette='tab10', style='Error_Type')\n",
        "    scatterplot.set_title(title)\n",
        "    scatterplot.legend(loc='center left', bbox_to_anchor=(1.0, 0.5), ncol=1)\n",
        "\n",
        "    plt.show()"
      ],
      "metadata": {
        "id": "HoSLp22kbykA"
      },
      "execution_count": 14,
      "outputs": []
    },
    {
      "cell_type": "markdown",
      "source": [
        "# PREPARE DATA"
      ],
      "metadata": {
        "id": "XV1Qk58hkbO0"
      }
    },
    {
      "cell_type": "code",
      "source": [
        "# Split into TP/FN and TN/FP\n",
        "TPFN_data = subset_TP_FN(data_shaper)\n",
        "TNFP_data = subset_TN_FP(data_shaper)"
      ],
      "metadata": {
        "id": "Hrck8K8Ei1YF"
      },
      "execution_count": 15,
      "outputs": []
    },
    {
      "cell_type": "code",
      "source": [
        "# Drop NA's\n",
        "TPFN_data = TPFN_data.dropna()\n",
        "TNFP_data = TNFP_data.dropna()"
      ],
      "metadata": {
        "id": "-BLx4V_hwx0F"
      },
      "execution_count": 16,
      "outputs": []
    },
    {
      "cell_type": "code",
      "source": [
        "# Scale features [Emma: redundant? but good to redo just in case]\n",
        "scaler = StandardScaler()\n",
        "features_to_scale = ERROR_COL_scaled + BASIC_COL_scaled + DUMMY_COL_scaled + SHAP_BASIC_scaled + SHAP_DUMMY_scaled\n",
        "\n",
        "TPFN_data[features_to_scale] = scaler.fit_transform(TPFN_data[features_to_scale])\n",
        "TNFP_data[features_to_scale] = scaler.fit_transform(TNFP_data[features_to_scale])\n",
        "\n",
        "#TPFN_data.iloc[3]"
      ],
      "metadata": {
        "id": "WMpQdFoo4epU"
      },
      "execution_count": 17,
      "outputs": []
    },
    {
      "cell_type": "markdown",
      "source": [
        "# VISUALIZE DATA\n"
      ],
      "metadata": {
        "id": "eIhDa9bdlbKP"
      }
    },
    {
      "cell_type": "code",
      "source": [
        "#pca_plot(TPFN_init, title=None, alpha = 0.5, pca_columns = BASIC_COL_scaled + DUMMY_COL_scaled + ERROR_COL_scaled + SHAP_BASIC_scaled + SHAP_DUMMY_scaled, other_columns=None, error='error')\n",
        "tsne_plot(TPFN_data, title='t-SNE for True Positives and False Negatives', alpha = 0.5, tsne_columns =BASIC_COL_scaled + DUMMY_COL_scaled + ERROR_COL_scaled + SHAP_BASIC_scaled + SHAP_DUMMY_scaled, other_columns=None, error='error', perplexity=30, learning_rate =200, n_iter= 1000)"
      ],
      "metadata": {
        "colab": {
          "base_uri": "https://localhost:8080/",
          "height": 339
        },
        "id": "BhU6II4-2mWM",
        "outputId": "52f8c30f-ca08-48d1-e066-741b7ba64c53"
      },
      "execution_count": 18,
      "outputs": [
        {
          "output_type": "error",
          "ename": "KeyboardInterrupt",
          "evalue": "",
          "traceback": [
            "\u001b[0;31m---------------------------------------------------------------------------\u001b[0m",
            "\u001b[0;31mKeyboardInterrupt\u001b[0m                         Traceback (most recent call last)",
            "\u001b[0;32m<ipython-input-18-5a4cf6ca14a9>\u001b[0m in \u001b[0;36m<cell line: 2>\u001b[0;34m()\u001b[0m\n\u001b[1;32m      1\u001b[0m \u001b[0;31m#pca_plot(TPFN_init, title=None, alpha = 0.5, pca_columns = BASIC_COL_scaled + DUMMY_COL_scaled + ERROR_COL_scaled + SHAP_BASIC_scaled + SHAP_DUMMY_scaled, other_columns=None, error='error')\u001b[0m\u001b[0;34m\u001b[0m\u001b[0;34m\u001b[0m\u001b[0m\n\u001b[0;32m----> 2\u001b[0;31m \u001b[0mtsne_plot\u001b[0m\u001b[0;34m(\u001b[0m\u001b[0mTPFN_data\u001b[0m\u001b[0;34m,\u001b[0m \u001b[0mtitle\u001b[0m\u001b[0;34m=\u001b[0m\u001b[0;34m't-SNE for True Positives and False Negatives'\u001b[0m\u001b[0;34m,\u001b[0m \u001b[0malpha\u001b[0m \u001b[0;34m=\u001b[0m \u001b[0;36m0.5\u001b[0m\u001b[0;34m,\u001b[0m \u001b[0mtsne_columns\u001b[0m \u001b[0;34m=\u001b[0m\u001b[0mBASIC_COL_scaled\u001b[0m \u001b[0;34m+\u001b[0m \u001b[0mDUMMY_COL_scaled\u001b[0m \u001b[0;34m+\u001b[0m \u001b[0mERROR_COL_scaled\u001b[0m \u001b[0;34m+\u001b[0m \u001b[0mSHAP_BASIC_scaled\u001b[0m \u001b[0;34m+\u001b[0m \u001b[0mSHAP_DUMMY_scaled\u001b[0m\u001b[0;34m,\u001b[0m \u001b[0mother_columns\u001b[0m\u001b[0;34m=\u001b[0m\u001b[0;32mNone\u001b[0m\u001b[0;34m,\u001b[0m \u001b[0merror\u001b[0m\u001b[0;34m=\u001b[0m\u001b[0;34m'error'\u001b[0m\u001b[0;34m,\u001b[0m \u001b[0mperplexity\u001b[0m\u001b[0;34m=\u001b[0m\u001b[0;36m30\u001b[0m\u001b[0;34m,\u001b[0m \u001b[0mlearning_rate\u001b[0m \u001b[0;34m=\u001b[0m\u001b[0;36m200\u001b[0m\u001b[0;34m,\u001b[0m \u001b[0mn_iter\u001b[0m\u001b[0;34m=\u001b[0m \u001b[0;36m1000\u001b[0m\u001b[0;34m)\u001b[0m\u001b[0;34m\u001b[0m\u001b[0;34m\u001b[0m\u001b[0m\n\u001b[0m",
            "\u001b[0;32m<ipython-input-14-ecb67ba3081c>\u001b[0m in \u001b[0;36mtsne_plot\u001b[0;34m(data, title, perplexity, learning_rate, n_iter, alpha, tsne_columns, other_columns, error)\u001b[0m\n\u001b[1;32m     20\u001b[0m \u001b[0;34m\u001b[0m\u001b[0m\n\u001b[1;32m     21\u001b[0m     \u001b[0mtsne\u001b[0m \u001b[0;34m=\u001b[0m \u001b[0mTSNE\u001b[0m\u001b[0;34m(\u001b[0m\u001b[0mn_components\u001b[0m\u001b[0;34m=\u001b[0m\u001b[0;36m2\u001b[0m\u001b[0;34m,\u001b[0m \u001b[0mperplexity\u001b[0m\u001b[0;34m=\u001b[0m \u001b[0;36m30\u001b[0m\u001b[0;34m,\u001b[0m \u001b[0mlearning_rate\u001b[0m\u001b[0;34m=\u001b[0m \u001b[0;36m200\u001b[0m\u001b[0;34m,\u001b[0m \u001b[0mn_iter\u001b[0m\u001b[0;34m=\u001b[0m \u001b[0;36m1000\u001b[0m\u001b[0;34m)\u001b[0m\u001b[0;34m\u001b[0m\u001b[0;34m\u001b[0m\u001b[0m\n\u001b[0;32m---> 22\u001b[0;31m     \u001b[0mtsne_result\u001b[0m \u001b[0;34m=\u001b[0m \u001b[0mtsne\u001b[0m\u001b[0;34m.\u001b[0m\u001b[0mfit_transform\u001b[0m\u001b[0;34m(\u001b[0m\u001b[0mtsne_features\u001b[0m\u001b[0;34m)\u001b[0m\u001b[0;34m\u001b[0m\u001b[0;34m\u001b[0m\u001b[0m\n\u001b[0m\u001b[1;32m     23\u001b[0m     \u001b[0mtsne_df\u001b[0m \u001b[0;34m=\u001b[0m \u001b[0mpd\u001b[0m\u001b[0;34m.\u001b[0m\u001b[0mDataFrame\u001b[0m\u001b[0;34m(\u001b[0m\u001b[0mtsne_result\u001b[0m\u001b[0;34m,\u001b[0m \u001b[0mindex\u001b[0m \u001b[0;34m=\u001b[0m \u001b[0mtsne_features\u001b[0m\u001b[0;34m.\u001b[0m\u001b[0mindex\u001b[0m\u001b[0;34m,\u001b[0m \u001b[0mcolumns\u001b[0m\u001b[0;34m=\u001b[0m\u001b[0;34m[\u001b[0m\u001b[0;34m't-SNE Component 1'\u001b[0m\u001b[0;34m,\u001b[0m \u001b[0;34m't-SNE Component 2'\u001b[0m\u001b[0;34m]\u001b[0m\u001b[0;34m)\u001b[0m\u001b[0;34m\u001b[0m\u001b[0;34m\u001b[0m\u001b[0m\n\u001b[1;32m     24\u001b[0m \u001b[0;34m\u001b[0m\u001b[0m\n",
            "\u001b[0;32m/usr/local/lib/python3.10/dist-packages/sklearn/manifold/_t_sne.py\u001b[0m in \u001b[0;36mfit_transform\u001b[0;34m(self, X, y)\u001b[0m\n\u001b[1;32m   1117\u001b[0m         \u001b[0mself\u001b[0m\u001b[0;34m.\u001b[0m\u001b[0m_validate_params\u001b[0m\u001b[0;34m(\u001b[0m\u001b[0;34m)\u001b[0m\u001b[0;34m\u001b[0m\u001b[0;34m\u001b[0m\u001b[0m\n\u001b[1;32m   1118\u001b[0m         \u001b[0mself\u001b[0m\u001b[0;34m.\u001b[0m\u001b[0m_check_params_vs_input\u001b[0m\u001b[0;34m(\u001b[0m\u001b[0mX\u001b[0m\u001b[0;34m)\u001b[0m\u001b[0;34m\u001b[0m\u001b[0;34m\u001b[0m\u001b[0m\n\u001b[0;32m-> 1119\u001b[0;31m         \u001b[0membedding\u001b[0m \u001b[0;34m=\u001b[0m \u001b[0mself\u001b[0m\u001b[0;34m.\u001b[0m\u001b[0m_fit\u001b[0m\u001b[0;34m(\u001b[0m\u001b[0mX\u001b[0m\u001b[0;34m)\u001b[0m\u001b[0;34m\u001b[0m\u001b[0;34m\u001b[0m\u001b[0m\n\u001b[0m\u001b[1;32m   1120\u001b[0m         \u001b[0mself\u001b[0m\u001b[0;34m.\u001b[0m\u001b[0membedding_\u001b[0m \u001b[0;34m=\u001b[0m \u001b[0membedding\u001b[0m\u001b[0;34m\u001b[0m\u001b[0;34m\u001b[0m\u001b[0m\n\u001b[1;32m   1121\u001b[0m         \u001b[0;32mreturn\u001b[0m \u001b[0mself\u001b[0m\u001b[0;34m.\u001b[0m\u001b[0membedding_\u001b[0m\u001b[0;34m\u001b[0m\u001b[0;34m\u001b[0m\u001b[0m\n",
            "\u001b[0;32m/usr/local/lib/python3.10/dist-packages/sklearn/manifold/_t_sne.py\u001b[0m in \u001b[0;36m_fit\u001b[0;34m(self, X, skip_num_points)\u001b[0m\n\u001b[1;32m   1010\u001b[0m         \u001b[0mdegrees_of_freedom\u001b[0m \u001b[0;34m=\u001b[0m \u001b[0mmax\u001b[0m\u001b[0;34m(\u001b[0m\u001b[0mself\u001b[0m\u001b[0;34m.\u001b[0m\u001b[0mn_components\u001b[0m \u001b[0;34m-\u001b[0m \u001b[0;36m1\u001b[0m\u001b[0;34m,\u001b[0m \u001b[0;36m1\u001b[0m\u001b[0;34m)\u001b[0m\u001b[0;34m\u001b[0m\u001b[0;34m\u001b[0m\u001b[0m\n\u001b[1;32m   1011\u001b[0m \u001b[0;34m\u001b[0m\u001b[0m\n\u001b[0;32m-> 1012\u001b[0;31m         return self._tsne(\n\u001b[0m\u001b[1;32m   1013\u001b[0m             \u001b[0mP\u001b[0m\u001b[0;34m,\u001b[0m\u001b[0;34m\u001b[0m\u001b[0;34m\u001b[0m\u001b[0m\n\u001b[1;32m   1014\u001b[0m             \u001b[0mdegrees_of_freedom\u001b[0m\u001b[0;34m,\u001b[0m\u001b[0;34m\u001b[0m\u001b[0;34m\u001b[0m\u001b[0m\n",
            "\u001b[0;32m/usr/local/lib/python3.10/dist-packages/sklearn/manifold/_t_sne.py\u001b[0m in \u001b[0;36m_tsne\u001b[0;34m(self, P, degrees_of_freedom, n_samples, X_embedded, neighbors, skip_num_points)\u001b[0m\n\u001b[1;32m   1078\u001b[0m             \u001b[0mopt_args\u001b[0m\u001b[0;34m[\u001b[0m\u001b[0;34m\"momentum\"\u001b[0m\u001b[0;34m]\u001b[0m \u001b[0;34m=\u001b[0m \u001b[0;36m0.8\u001b[0m\u001b[0;34m\u001b[0m\u001b[0;34m\u001b[0m\u001b[0m\n\u001b[1;32m   1079\u001b[0m             \u001b[0mopt_args\u001b[0m\u001b[0;34m[\u001b[0m\u001b[0;34m\"n_iter_without_progress\"\u001b[0m\u001b[0;34m]\u001b[0m \u001b[0;34m=\u001b[0m \u001b[0mself\u001b[0m\u001b[0;34m.\u001b[0m\u001b[0mn_iter_without_progress\u001b[0m\u001b[0;34m\u001b[0m\u001b[0;34m\u001b[0m\u001b[0m\n\u001b[0;32m-> 1080\u001b[0;31m             \u001b[0mparams\u001b[0m\u001b[0;34m,\u001b[0m \u001b[0mkl_divergence\u001b[0m\u001b[0;34m,\u001b[0m \u001b[0mit\u001b[0m \u001b[0;34m=\u001b[0m \u001b[0m_gradient_descent\u001b[0m\u001b[0;34m(\u001b[0m\u001b[0mobj_func\u001b[0m\u001b[0;34m,\u001b[0m \u001b[0mparams\u001b[0m\u001b[0;34m,\u001b[0m \u001b[0;34m**\u001b[0m\u001b[0mopt_args\u001b[0m\u001b[0;34m)\u001b[0m\u001b[0;34m\u001b[0m\u001b[0;34m\u001b[0m\u001b[0m\n\u001b[0m\u001b[1;32m   1081\u001b[0m \u001b[0;34m\u001b[0m\u001b[0m\n\u001b[1;32m   1082\u001b[0m         \u001b[0;31m# Save the final number of iterations\u001b[0m\u001b[0;34m\u001b[0m\u001b[0;34m\u001b[0m\u001b[0m\n",
            "\u001b[0;32m/usr/local/lib/python3.10/dist-packages/sklearn/manifold/_t_sne.py\u001b[0m in \u001b[0;36m_gradient_descent\u001b[0;34m(objective, p0, it, n_iter, n_iter_check, n_iter_without_progress, momentum, learning_rate, min_gain, min_grad_norm, verbose, args, kwargs)\u001b[0m\n\u001b[1;32m    397\u001b[0m         \u001b[0mkwargs\u001b[0m\u001b[0;34m[\u001b[0m\u001b[0;34m\"compute_error\"\u001b[0m\u001b[0;34m]\u001b[0m \u001b[0;34m=\u001b[0m \u001b[0mcheck_convergence\u001b[0m \u001b[0;32mor\u001b[0m \u001b[0mi\u001b[0m \u001b[0;34m==\u001b[0m \u001b[0mn_iter\u001b[0m \u001b[0;34m-\u001b[0m \u001b[0;36m1\u001b[0m\u001b[0;34m\u001b[0m\u001b[0;34m\u001b[0m\u001b[0m\n\u001b[1;32m    398\u001b[0m \u001b[0;34m\u001b[0m\u001b[0m\n\u001b[0;32m--> 399\u001b[0;31m         \u001b[0merror\u001b[0m\u001b[0;34m,\u001b[0m \u001b[0mgrad\u001b[0m \u001b[0;34m=\u001b[0m \u001b[0mobjective\u001b[0m\u001b[0;34m(\u001b[0m\u001b[0mp\u001b[0m\u001b[0;34m,\u001b[0m \u001b[0;34m*\u001b[0m\u001b[0margs\u001b[0m\u001b[0;34m,\u001b[0m \u001b[0;34m**\u001b[0m\u001b[0mkwargs\u001b[0m\u001b[0;34m)\u001b[0m\u001b[0;34m\u001b[0m\u001b[0;34m\u001b[0m\u001b[0m\n\u001b[0m\u001b[1;32m    400\u001b[0m \u001b[0;34m\u001b[0m\u001b[0m\n\u001b[1;32m    401\u001b[0m         \u001b[0minc\u001b[0m \u001b[0;34m=\u001b[0m \u001b[0mupdate\u001b[0m \u001b[0;34m*\u001b[0m \u001b[0mgrad\u001b[0m \u001b[0;34m<\u001b[0m \u001b[0;36m0.0\u001b[0m\u001b[0;34m\u001b[0m\u001b[0;34m\u001b[0m\u001b[0m\n",
            "\u001b[0;32m/usr/local/lib/python3.10/dist-packages/sklearn/manifold/_t_sne.py\u001b[0m in \u001b[0;36m_kl_divergence_bh\u001b[0;34m(params, P, degrees_of_freedom, n_samples, n_components, angle, skip_num_points, verbose, compute_error, num_threads)\u001b[0m\n\u001b[1;32m    278\u001b[0m \u001b[0;34m\u001b[0m\u001b[0m\n\u001b[1;32m    279\u001b[0m     \u001b[0mgrad\u001b[0m \u001b[0;34m=\u001b[0m \u001b[0mnp\u001b[0m\u001b[0;34m.\u001b[0m\u001b[0mzeros\u001b[0m\u001b[0;34m(\u001b[0m\u001b[0mX_embedded\u001b[0m\u001b[0;34m.\u001b[0m\u001b[0mshape\u001b[0m\u001b[0;34m,\u001b[0m \u001b[0mdtype\u001b[0m\u001b[0;34m=\u001b[0m\u001b[0mnp\u001b[0m\u001b[0;34m.\u001b[0m\u001b[0mfloat32\u001b[0m\u001b[0;34m)\u001b[0m\u001b[0;34m\u001b[0m\u001b[0;34m\u001b[0m\u001b[0m\n\u001b[0;32m--> 280\u001b[0;31m     error = _barnes_hut_tsne.gradient(\n\u001b[0m\u001b[1;32m    281\u001b[0m         \u001b[0mval_P\u001b[0m\u001b[0;34m,\u001b[0m\u001b[0;34m\u001b[0m\u001b[0;34m\u001b[0m\u001b[0m\n\u001b[1;32m    282\u001b[0m         \u001b[0mX_embedded\u001b[0m\u001b[0;34m,\u001b[0m\u001b[0;34m\u001b[0m\u001b[0;34m\u001b[0m\u001b[0m\n",
            "\u001b[0;31mKeyboardInterrupt\u001b[0m: "
          ]
        }
      ]
    },
    {
      "cell_type": "code",
      "source": [
        "#pca_plot(TNFP_init, error = 'error', title=None, alpha = 0.5, pca_columns = BASIC_COL_scaled + DUMMY_COL_scaled + ERROR_COL_scaled + SHAP_BASIC_scaled + SHAP_DUMMY_scaled, other_columns=None)\n",
        "tsne_plot(TNFP_data, error= 'error', title='t-SNE for True Negatives and False Positives', alpha=0.5, tsne_columns = BASIC_COL_scaled + DUMMY_COL_scaled + ERROR_COL_scaled + SHAP_BASIC_scaled + SHAP_DUMMY_scaled, other_columns=None, perplexity=30, learning_rate =200, n_iter= 1000)"
      ],
      "metadata": {
        "id": "JngeycNY2rrU"
      },
      "execution_count": null,
      "outputs": []
    },
    {
      "cell_type": "markdown",
      "source": [
        "# K-MEANS CLUSTERING"
      ],
      "metadata": {
        "id": "NAD_kfGCfFN5"
      }
    },
    {
      "cell_type": "code",
      "source": [
        "def hbac_kmeans(data, columns_to_use=[], error='errors',\n",
        "                min_splittable_cluster_prop = 0.05,\n",
        "                min_acceptable_cluster_prop = 0.03,\n",
        "                max_iter=300):\n",
        "    clus_model_kwargs = {\n",
        "        \"n_clusters\": 2,  # Number of clusters to form\n",
        "        \"init\": \"k-means++\",  # Centroids initialization method\n",
        "        \"n_init\": 10,  # Number of initializations\n",
        "        \"max_iter\": max_iter,  # Maximum iterations for a single run\n",
        "    }\n",
        "\n",
        "    min_splittable_cluster_size = round(min_splittable_cluster_prop * len(data))  # Minimum size of cluster to be split\n",
        "    min_acceptable_cluster_size = round(min_acceptable_cluster_prop * len(data))  # Minimum acceptable size of cluster after split\n",
        "\n",
        "    # Initialize loop's variables\n",
        "    data['clusters'] = 0\n",
        "    banned_clusters = []\n",
        "\n",
        "    #### CLUSTERING LOOP\n",
        "    for i in range(1, max_iter):\n",
        "      # Init temporary cluster\n",
        "      data['new_clusters'] = None\n",
        "\n",
        "      ### Select the cluster to split in 2\n",
        "      x = get_next_cluster(data, 'clusters', min_splittable_cluster_size, data['clusters'].unique(), banned_clusters)\n",
        "      if(x == -1):\n",
        "        break\n",
        "\n",
        "      candidate_cluster = data.copy(deep=True)\n",
        "      candidate_cluster = candidate_cluster.loc[candidate_cluster['clusters'] == x]\n",
        "\n",
        "      #### SPLIT IN 2 SUB-CLUSTERS\n",
        "      kmeans = KMeans(**clus_model_kwargs).fit(candidate_cluster[columns_to_use])\n",
        "      candidate_cluster['new_clusters'] = kmeans.predict(candidate_cluster[columns_to_use])\n",
        "\n",
        "      # KEEP CLUSTER OR NOT\n",
        "      error_rate_c0 = get_error_rate(candidate_cluster.loc[candidate_cluster['new_clusters'] == 0])\n",
        "      error_rate_c1 = get_error_rate(candidate_cluster.loc[candidate_cluster['new_clusters'] == 1])\n",
        "\n",
        "      l0 = len(candidate_cluster.loc[candidate_cluster['new_clusters'] == 0])\n",
        "      l1 = len(candidate_cluster.loc[candidate_cluster['new_clusters'] == 1])\n",
        "\n",
        "      if((l0 < min_acceptable_cluster_size) | (l1 < min_acceptable_cluster_size)):\n",
        "        #print('Bad Split')\n",
        "        banned_clusters.append(x)\n",
        "        continue\n",
        "\n",
        "      ### Re-integrate to main data\n",
        "      data['new_clusters'] = candidate_cluster['new_clusters'].combine_first(data['new_clusters'])  # Combine new clusters with existing ones\n",
        "\n",
        "      # Make new Cluster IDs\n",
        "      new_id = data['clusters'].unique().max() + 1\n",
        "      data.loc[((data.clusters == x) & (data.new_clusters == 1)), 'clusters'] = new_id\n",
        "\n",
        "    #print('Max iterations reached:', i)\n",
        "    return data"
      ],
      "metadata": {
        "id": "PYw4Qp099EF5"
      },
      "execution_count": 58,
      "outputs": []
    },
    {
      "cell_type": "markdown",
      "source": [
        "# RESULTS (BASIC)\n"
      ],
      "metadata": {
        "id": "eu68Ojb0xObC"
      }
    },
    {
      "cell_type": "code",
      "source": [
        "def apply_hbac_kmeans(data,\n",
        "                       columns_to_use = ERROR_COL_scaled + BASIC_COL_scaled + DUMMY_COL_scaled,\n",
        "                       error='errors',\n",
        "                       min_splittable_cluster_prop = 0.02,\n",
        "                       min_acceptable_cluster_prop = 0.02,\n",
        "                       max_iter=100):\n",
        "\n",
        "  res_all = hbac_kmeans(data=data,\n",
        "                       columns_to_use = columns_to_use,\n",
        "                       error=error,\n",
        "                       min_splittable_cluster_prop = min_splittable_cluster_prop,\n",
        "                       min_acceptable_cluster_prop = min_acceptable_cluster_prop,\n",
        "                       max_iter=max_iter)\n",
        "\n",
        "  # Prepare recap of cluster info\n",
        "  # ...with error rates\n",
        "  res = res_all[['clusters', 'errors']]\n",
        "\n",
        "  # ...with cluster size\n",
        "  temp = res_all[['clusters']]\n",
        "  temp['count'] = 1\n",
        "  recap = temp.groupby(['clusters'], as_index=False).sum()\n",
        "\n",
        "  # ...with number of error\n",
        "  recap['n_error'] = res.groupby(['clusters']).sum().astype(int)\n",
        "\n",
        "  # ...with 1-vs-All error diff\n",
        "  recap['error_rate'] = res.groupby(['clusters']).mean()\n",
        "  recap['std'] = (recap['error_rate'] * (1-recap['error_rate']))/recap['count']\n",
        "  recap['std'] = recap['std'].apply(np.sqrt)\n",
        "\n",
        "  # ... with error differences (1 vs Rest)\n",
        "  diff_vs_rest = []\n",
        "  diff_std = []\n",
        "  diff_p =[]\n",
        "\n",
        "  for c in recap['clusters']:\n",
        "    rest_data = recap.loc[recap['clusters'] != c]\n",
        "    rest_n_error = rest_data['n_error'].sum()\n",
        "    rest_count = rest_data['count'].sum()\n",
        "    rest_rate = rest_n_error / rest_count\n",
        "    diff = recap['error_rate'][c] - rest_rate\n",
        "    diff_vs_rest.append(diff)\n",
        "\n",
        "    # ...with std deviation of error differences\n",
        "    std_rest = (rest_rate * (1-rest_rate))/rest_data['count'].sum()\n",
        "    std_rest = np.sqrt(std_rest)\n",
        "    diff_std.append(recap['std'][c] + std_rest)\n",
        "\n",
        "    # ...with Poisson stat test\n",
        "    res = stats.poisson_means_test(recap['n_error'][c], recap['count'][c], rest_n_error, rest_count)\n",
        "    diff_p.append(round(res.pvalue, 3))\n",
        "\n",
        "  recap['diff_vs_rest'] = diff_vs_rest\n",
        "  recap['diff_std'] = diff_std\n",
        "  recap['diff_p'] = diff_p\n",
        "\n",
        "  recap.rename(columns={'clusters':'c'}, inplace=True)\n",
        "  print(recap.sort_values(by=['diff_p']))\n",
        "\n",
        "  return(res_all, recap)"
      ],
      "metadata": {
        "id": "aDVBmAKgo2s-"
      },
      "execution_count": 85,
      "outputs": []
    },
    {
      "cell_type": "code",
      "source": [
        "res_baseline = apply_hbac_kmeans(TNFP_data,\n",
        "                  columns_to_use = BASIC_COL_scaled + DUMMY_COL_scaled_light,\n",
        "                  error='errors',\n",
        "                  min_splittable_cluster_prop = 0.04,\n",
        "                  min_acceptable_cluster_prop = 0.03,\n",
        "                  max_iter=100)"
      ],
      "metadata": {
        "colab": {
          "base_uri": "https://localhost:8080/"
        },
        "id": "GcO29exZv9Kd",
        "outputId": "0af09950-92a7-445d-b39b-e5cfe83eaffb"
      },
      "execution_count": 86,
      "outputs": [
        {
          "output_type": "stream",
          "name": "stdout",
          "text": [
            "     c  count  n_error  error_rate       std  diff_vs_all  diff_std  diff_p\n",
            "0    0    129      109    0.844961  0.031867     0.588854  0.044120   0.000\n",
            "6    6     82        9    0.109756  0.034519    -0.213192  0.047409   0.000\n",
            "9    9     84        9    0.107143  0.033747    -0.216297  0.046652   0.000\n",
            "12  12     58        5    0.086207  0.036854    -0.233942  0.049598   0.000\n",
            "14  14     51        2    0.039216  0.027181    -0.281497  0.039898   0.000\n",
            "4    4     73        9    0.123288  0.038479    -0.197467  0.051302   0.001\n",
            "8    8    166       80    0.481928  0.038782     0.194590  0.051675   0.001\n",
            "10  10    105       17    0.161905  0.035949    -0.160601  0.048948   0.001\n",
            "11  11     84       14    0.166667  0.040663    -0.152968  0.053527   0.004\n",
            "1    1    102       22    0.215686  0.040725    -0.102215  0.053660   0.041\n",
            "13  13     55       24    0.436364  0.066872     0.131077  0.079438   0.155\n",
            "7    7    205       73    0.356098  0.033444     0.053499  0.046744   0.232\n",
            "2    2     72       21    0.291667  0.053567    -0.019796  0.066284   0.763\n",
            "3    3     62       18    0.290323  0.057647    -0.021055  0.070315   0.765\n",
            "5    5     70       22    0.314286  0.055486     0.004045  0.068180   0.955\n"
          ]
        }
      ]
    },
    {
      "cell_type": "code",
      "source": [
        "res_baseline_wError = apply_hbac_kmeans(TNFP_data,\n",
        "                  columns_to_use = ERROR_COL_scaled + BASIC_COL_scaled + DUMMY_COL_scaled_light,\n",
        "                  error='errors',\n",
        "                  min_splittable_cluster_prop = 0.04,\n",
        "                  min_acceptable_cluster_prop = 0.03,\n",
        "                  max_iter=100)"
      ],
      "metadata": {
        "colab": {
          "base_uri": "https://localhost:8080/"
        },
        "id": "sI_2d2yqxUjn",
        "outputId": "ab63e6a5-9ad9-4fe7-946b-4aa9535c1db0"
      },
      "execution_count": 91,
      "outputs": [
        {
          "output_type": "stream",
          "name": "stdout",
          "text": [
            "     c  count  n_error  error_rate       std  diff_vs_all  diff_std  diff_p\n",
            "0    0    126      106    0.841270  0.032555     0.583408  0.044820   0.000\n",
            "12  12     65        8    0.123077  0.040749    -0.196503  0.053521   0.001\n",
            "7    7     96       16    0.166667  0.038036    -0.154378  0.050975   0.002\n",
            "8    8     73       11    0.150685  0.041870    -0.168560  0.054678   0.003\n",
            "15  15     54        7    0.129630  0.045710    -0.188079  0.058409   0.004\n",
            "6    6     57        8    0.140351  0.046008    -0.177323  0.058721   0.005\n",
            "10  10     62       37    0.596774  0.062299     0.299619  0.074802   0.009\n",
            "11  11     50        8    0.160000  0.051846    -0.156024  0.064509   0.019\n",
            "16  16     51        9    0.176471  0.053381    -0.139045  0.066044   0.035\n",
            "17  17     55       10    0.181818  0.052007    -0.133893  0.064690   0.037\n",
            "3    3     54       10    0.185185  0.052861    -0.130291  0.065537   0.044\n",
            "4    4     91       20    0.219780  0.043409    -0.096976  0.056277   0.067\n",
            "14  14    102       43    0.421569  0.048894     0.119871  0.061644   0.075\n",
            "18  18     47        9    0.191489  0.057394    -0.123092  0.070027   0.075\n",
            "5    5    130       48    0.369231  0.042327     0.064814  0.055249   0.245\n",
            "2    2     59       15    0.254237  0.056688    -0.058683  0.069360   0.387\n",
            "9    9    104       28    0.269231  0.043495    -0.044525  0.056394   0.405\n",
            "1    1     48       17    0.354167  0.069031     0.045278  0.081606   0.605\n",
            "13  13     74       24    0.324324  0.054418     0.014657  0.067125   0.831\n"
          ]
        }
      ]
    },
    {
      "cell_type": "code",
      "source": [
        "res_w_SHAP = apply_hbac_kmeans(TNFP_data,\n",
        "                  columns_to_use = BASIC_COL_scaled + DUMMY_COL_scaled_light + SHAP_BASIC_scaled + SHAP_DUMMY_scaled_light,\n",
        "                  error='errors',\n",
        "                  min_splittable_cluster_prop = 0.04,\n",
        "                  min_acceptable_cluster_prop = 0.03,\n",
        "                  max_iter=100)"
      ],
      "metadata": {
        "colab": {
          "base_uri": "https://localhost:8080/"
        },
        "id": "V6hfYGo5xklP",
        "outputId": "3ff3d15c-2eac-4253-f5fd-e3405debd866"
      },
      "execution_count": 88,
      "outputs": [
        {
          "output_type": "stream",
          "name": "stdout",
          "text": [
            "     c  count  n_error  error_rate       std  diff_vs_all  diff_std  diff_p\n",
            "1    1     69       60    0.869565  0.040544     0.588151  0.052879   0.000\n",
            "2    2    113       15    0.132743  0.031918    -0.193327  0.044995   0.000\n",
            "9    9     65        5    0.076923  0.033051    -0.244907  0.045847   0.000\n",
            "0    0    115       66    0.573913  0.046113     0.287085  0.058740   0.001\n",
            "3    3     81       17    0.209877  0.045247    -0.106752  0.058064   0.053\n",
            "7    7     57       11    0.192982  0.052271    -0.122454  0.064961   0.054\n",
            "8    8     55       11    0.200000  0.053936    -0.114966  0.066611   0.076\n",
            "17  17     65       14    0.215385  0.050989    -0.099694  0.063713   0.103\n",
            "10  10     56       12    0.214286  0.054832    -0.100170  0.067506   0.126\n",
            "15  15     42        9    0.214286  0.063315    -0.099136  0.075912   0.185\n",
            "11  11     60       14    0.233333  0.054603    -0.080568  0.067290   0.216\n",
            "16  16     56       22    0.392857  0.065263     0.085853  0.077854   0.317\n",
            "13  13     59       23    0.389831  0.063495     0.082885  0.076099   0.321\n",
            "12  12     72       19    0.263889  0.051942    -0.049082  0.064676   0.434\n",
            "5    5     63       17    0.269841  0.055923    -0.042518  0.068608   0.530\n",
            "4    4    247       81    0.327935  0.029871     0.021245  0.043463   0.595\n",
            "14  14     50       14    0.280000  0.063498    -0.031573  0.076112   0.682\n",
            "6    6     73       24    0.328767  0.054982     0.019333  0.067681   0.781\n"
          ]
        }
      ]
    },
    {
      "cell_type": "code",
      "source": [
        "res_w_SHAP_wError = apply_hbac_kmeans(TNFP_data,\n",
        "                  columns_to_use = ERROR_COL_scaled + BASIC_COL_scaled + DUMMY_COL_scaled_light + SHAP_BASIC_scaled + SHAP_DUMMY_scaled_light,\n",
        "                  error='errors',\n",
        "                  min_splittable_cluster_prop = 0.04,\n",
        "                  min_acceptable_cluster_prop = 0.03,\n",
        "                  max_iter=100)"
      ],
      "metadata": {
        "colab": {
          "base_uri": "https://localhost:8080/"
        },
        "id": "YlITCKq0xhLo",
        "outputId": "f7712530-8d80-4941-887a-ebf67df731ae"
      },
      "execution_count": 92,
      "outputs": [
        {
          "output_type": "stream",
          "name": "stdout",
          "text": [
            "     c  count  n_error  error_rate       std  diff_vs_all  diff_std  diff_p\n",
            "0    0     70       61    0.871429  0.040007     0.590555  0.052340   0.000\n",
            "1    1    110       64    0.581818  0.047031     0.294551  0.059639   0.001\n",
            "7    7    133       23    0.172932  0.032793    -0.151969  0.045961   0.001\n",
            "15  15     68        9    0.132353  0.041095    -0.187196  0.053881   0.001\n",
            "2    2     58       10    0.172414  0.049600    -0.144004  0.062305   0.021\n",
            "14  14     56       10    0.178571  0.051180    -0.137375  0.063870   0.031\n",
            "5    5     84       18    0.214286  0.044770    -0.102305  0.057602   0.060\n",
            "4    4     83       18    0.216867  0.045235    -0.099482  0.058060   0.070\n",
            "6    6     54       11    0.203704  0.054807    -0.111028  0.067475   0.091\n",
            "9    9     64       14    0.218750  0.051675    -0.096093  0.064391   0.120\n",
            "3    3    100       35    0.350000  0.047697     0.042604  0.060504   0.487\n",
            "11  11     48       13    0.270833  0.064142    -0.041019  0.076750   0.596\n",
            "8    8     89       30    0.337079  0.050107     0.028446  0.062875   0.656\n",
            "16  16     93       27    0.290323  0.047068    -0.021555  0.059892   0.712\n",
            "10  10     70       23    0.328571  0.056139     0.019083  0.068825   0.787\n",
            "13  13    147       46    0.312925  0.038244     0.002773  0.051322   0.956\n",
            "12  12     71       22    0.309859  0.054881    -0.000616  0.067582   0.994\n"
          ]
        }
      ]
    },
    {
      "cell_type": "code",
      "source": [
        "res_SHAPonly = apply_hbac_kmeans(TNFP_data,\n",
        "                  columns_to_use = SHAP_BASIC_scaled + SHAP_DUMMY_scaled_light,\n",
        "                  error='errors',\n",
        "                  min_splittable_cluster_prop = 0.04,\n",
        "                  min_acceptable_cluster_prop = 0.03,\n",
        "                  max_iter=100)"
      ],
      "metadata": {
        "colab": {
          "base_uri": "https://localhost:8080/"
        },
        "id": "I-0MQhoYxyQg",
        "outputId": "8af96173-8722-4472-a210-d98b0afa5c68"
      },
      "execution_count": 93,
      "outputs": [
        {
          "output_type": "stream",
          "name": "stdout",
          "text": [
            "     c  count  n_error  error_rate       std  diff_vs_all  diff_std  diff_p\n",
            "11  11     54       24    0.444444  0.067620     0.139385  0.080179   0.139\n",
            "7    7    113       28    0.247788  0.040614    -0.068166  0.053582   0.171\n",
            "17  17     50       11    0.220000  0.058583    -0.093798  0.071222   0.177\n",
            "2    2     80       20    0.250000  0.048412    -0.064112  0.061198   0.273\n",
            "1    1     91       34    0.373626  0.050712     0.067582  0.063460   0.309\n",
            "16  16     60       15    0.250000  0.055902    -0.063154  0.068581   0.346\n",
            "4    4     76       28    0.368421  0.055332     0.061311  0.068020   0.392\n",
            "18  18     42       16    0.380952  0.074933     0.072693  0.087473   0.455\n",
            "13  13    122       34    0.278689  0.040592    -0.034791  0.053579   0.491\n",
            "3    3     58       21    0.362069  0.063106     0.053860  0.075720   0.506\n",
            "8    8     88       25    0.284091  0.048075    -0.028123  0.060878   0.635\n",
            "14  14     70       24    0.342857  0.056733     0.034122  0.069410   0.636\n",
            "12  12     50       17    0.340000  0.066993     0.030653  0.079582   0.716\n",
            "6    6     42       12    0.285714  0.069707    -0.025495  0.082280   0.763\n",
            "5    5     72       23    0.319444  0.054949     0.009490  0.067650   0.891\n",
            "9    9     50       15    0.300000  0.064807    -0.010831  0.077413   0.892\n",
            "10  10     76       23    0.302632  0.052696    -0.008261  0.065427   0.901\n",
            "15  15    159       50    0.314465  0.036822     0.004538  0.049960   0.924\n",
            "0    0     45       14    0.311111  0.069012     0.000690  0.081590   0.996\n"
          ]
        }
      ]
    },
    {
      "cell_type": "code",
      "source": [
        "res_SHAPonly_wError = apply_hbac_kmeans(TNFP_data,\n",
        "                  columns_to_use = ERROR_COL_scaled + SHAP_BASIC_scaled + SHAP_DUMMY_scaled_light,\n",
        "                  error='errors',\n",
        "                  min_splittable_cluster_prop = 0.04,\n",
        "                  min_acceptable_cluster_prop = 0.03,\n",
        "                  max_iter=100)"
      ],
      "metadata": {
        "colab": {
          "base_uri": "https://localhost:8080/"
        },
        "id": "X4adgRfUxts5",
        "outputId": "fba601da-76fe-4822-e89e-5d1b69234366"
      },
      "execution_count": 94,
      "outputs": [
        {
          "output_type": "stream",
          "name": "stdout",
          "text": [
            "     c  count  n_error  error_rate       std  diff_vs_all  diff_std  diff_p\n",
            "3    3     44        7    0.159091  0.055141    -0.156271  0.067768   0.026\n",
            "17  17     63       25    0.396825  0.061638     0.090458  0.074255   0.268\n",
            "6    6     58       14    0.241379  0.056189    -0.072054  0.068861   0.282\n",
            "13  13     50       13    0.260000  0.062032    -0.052315  0.074655   0.481\n",
            "15  15     86       30    0.348837  0.051393     0.040910  0.064138   0.535\n",
            "12  12     73       20    0.273973  0.052200    -0.038480  0.064933   0.546\n",
            "2    2     60       21    0.350000  0.061577     0.041330  0.074205   0.598\n",
            "10  10     55       19    0.345455  0.064119     0.036445  0.076728   0.655\n",
            "9    9     59       20    0.338983  0.061627     0.029797  0.074257   0.703\n",
            "8    8    107       35    0.327103  0.045355     0.018040  0.058216   0.754\n",
            "5    5     45       13    0.288889  0.067566    -0.022271  0.080152   0.786\n",
            "1    1    273       83    0.304029  0.027840    -0.007971  0.041653   0.832\n",
            "7    7     75       24    0.320000  0.053864     0.010098  0.066578   0.883\n",
            "16  16     56       18    0.321429  0.062409     0.011443  0.075034   0.884\n",
            "11  11     88       28    0.318182  0.049651     0.008258  0.062429   0.895\n",
            "4    4     51       16    0.313725  0.064974     0.003406  0.077579   0.967\n",
            "14  14     68       21    0.308824  0.056027    -0.001703  0.068714   0.980\n",
            "0    0     87       27    0.310345  0.049600    -0.000105  0.062378   0.998\n"
          ]
        }
      ]
    },
    {
      "cell_type": "code",
      "source": [
        "res_SENSonly_wError = apply_hbac_kmeans(TNFP_data,\n",
        "                  columns_to_use = ERROR_COL_scaled + DUMMY_COL_scaled_light,\n",
        "                  error='errors',\n",
        "                  min_splittable_cluster_prop = 0.04,\n",
        "                  min_acceptable_cluster_prop = 0.03,\n",
        "                  max_iter=100)"
      ],
      "metadata": {
        "colab": {
          "base_uri": "https://localhost:8080/"
        },
        "id": "Tq6aV7Dk1ESL",
        "outputId": "119905e9-ae42-4f4a-f45b-b2308b01945e"
      },
      "execution_count": 96,
      "outputs": [
        {
          "output_type": "stream",
          "name": "stdout",
          "text": [
            "calculating error rate on an empty set\n",
            "calculating error rate on an empty set\n",
            "calculating error rate on an empty set\n",
            "calculating error rate on an empty set\n",
            "calculating error rate on an empty set\n",
            "calculating error rate on an empty set\n",
            "   c  count  n_error  error_rate       std  diff_vs_all  diff_std  diff_p\n",
            "4  4    314      129    0.410828  0.027764     0.129463  0.041422   0.001\n",
            "3  3    182       81    0.445055  0.036838     0.154759  0.049854   0.004\n",
            "2  2     69       12    0.173913  0.045630    -0.143619  0.058400   0.014\n",
            "7  7    139       32    0.230216  0.035706    -0.089085  0.048845   0.045\n",
            "0  0    118       27    0.228814  0.038670    -0.089155  0.051687   0.061\n",
            "1  1    253       67    0.264822  0.027740    -0.055702  0.041532   0.128\n",
            "5  5    126       32    0.253968  0.038778    -0.062069  0.051814   0.195\n",
            "6  6    122       33    0.270492  0.040217    -0.043772  0.053213   0.379\n",
            "8  8     75       21    0.280000  0.051846    -0.032169  0.064586   0.612\n"
          ]
        }
      ]
    },
    {
      "cell_type": "code",
      "source": [
        "res_SENSonly_wSHAP_wError = apply_hbac_kmeans(TNFP_data,\n",
        "                  columns_to_use = ERROR_COL_scaled + DUMMY_COL_scaled_light + SHAP_DUMMY_scaled_light,\n",
        "                  error='errors',\n",
        "                  min_splittable_cluster_prop = 0.04,\n",
        "                  min_acceptable_cluster_prop = 0.03,\n",
        "                  max_iter=100)"
      ],
      "metadata": {
        "colab": {
          "base_uri": "https://localhost:8080/"
        },
        "id": "0kcn9Bd81RZw",
        "outputId": "dbba1549-4fc5-4abc-bbcc-f9a4230e8992"
      },
      "execution_count": 97,
      "outputs": [
        {
          "output_type": "stream",
          "name": "stdout",
          "text": [
            "     c  count  n_error  error_rate       std  diff_vs_all  diff_std  diff_p\n",
            "11  11    134       61    0.455224  0.043020     0.160129  0.055848   0.011\n",
            "6    6    106       22    0.207547  0.039391    -0.111338  0.052356   0.023\n",
            "12  12    142       32    0.225352  0.035062    -0.094712  0.048225   0.031\n",
            "9    9     69       16    0.231884  0.050807    -0.082638  0.063544   0.173\n",
            "3    3     59       25    0.423729  0.064333     0.118277  0.076920   0.177\n",
            "4    4    113       43    0.380531  0.045674     0.076251  0.058509   0.207\n",
            "2    2     64       15    0.234375  0.052951    -0.079718  0.065659   0.208\n",
            "13  13     79       31    0.392405  0.054936     0.086871  0.067620   0.232\n",
            "7    7     68       17    0.250000  0.052511    -0.063534  0.065232   0.315\n",
            "8    8     42       10    0.238095  0.065721    -0.074589  0.078310   0.338\n",
            "1    1    193       66    0.341969  0.034146     0.036575  0.047414   0.417\n",
            "10  10     86       23    0.267442  0.047729    -0.045820  0.060535   0.430\n",
            "5    5    139       41    0.294964  0.038680    -0.017188  0.051739   0.725\n",
            "0    0    104       32    0.307692  0.045258    -0.002972  0.058122   0.959\n"
          ]
        }
      ]
    },
    {
      "cell_type": "code",
      "source": [
        "res_SENSonly_SHAPonly_wError = apply_hbac_kmeans(TNFP_data,\n",
        "                  columns_to_use = ERROR_COL_scaled + SHAP_DUMMY_scaled_light,\n",
        "                  error='errors',\n",
        "                  min_splittable_cluster_prop = 0.04,\n",
        "                  min_acceptable_cluster_prop = 0.03,\n",
        "                  max_iter=100)"
      ],
      "metadata": {
        "colab": {
          "base_uri": "https://localhost:8080/"
        },
        "id": "RyA1K3ze001p",
        "outputId": "ff6e1539-25d4-4e9d-a99d-f9c741b6cdee"
      },
      "execution_count": 95,
      "outputs": [
        {
          "output_type": "stream",
          "name": "stdout",
          "text": [
            "     c  count  n_error  error_rate       std  diff_vs_all  diff_std  diff_p\n",
            "7    7     74       15    0.202703  0.046733    -0.113763  0.059515   0.046\n",
            "11  11     72       17    0.236111  0.050050    -0.078369  0.062801   0.192\n",
            "8    8    116       44    0.379310  0.045051     0.075098  0.057901   0.208\n",
            "12  12     93       23    0.247312  0.044739    -0.067631  0.057597   0.213\n",
            "0    0    142       50    0.352113  0.040082     0.046380  0.053082   0.375\n",
            "1    1     67       25    0.373134  0.059086     0.065847  0.071732   0.391\n",
            "5    5    107       37    0.345794  0.045981     0.038281  0.058824   0.517\n",
            "10  10     45       16    0.355556  0.071358     0.046612  0.083919   0.609\n",
            "3    3    125       36    0.288000  0.040502    -0.024647  0.053495   0.627\n",
            "4    4     97       28    0.288660  0.046009    -0.023408  0.058855   0.680\n",
            "6    6     62       21    0.338710  0.060105     0.029578  0.072749   0.696\n",
            "9    9     62       18    0.290323  0.057647    -0.021055  0.070315   0.765\n",
            "13  13     46       14    0.304348  0.067843    -0.006303  0.080428   0.939\n",
            "2    2    290       90    0.310345  0.027167    -0.000124  0.041067   0.998\n"
          ]
        }
      ]
    },
    {
      "cell_type": "markdown",
      "source": [
        "# RQ'S"
      ],
      "metadata": {
        "id": "bfwAmks0cb0Z"
      }
    },
    {
      "cell_type": "markdown",
      "source": [
        "\n",
        "**RQ1: is there a relationshop between shap & risk of error?**\n",
        "\n",
        "TPFN_init & TNFP_init = *all columns*\n",
        "\n",
        "SE = shap and error columns\n",
        "\n",
        "FE = all columns except shap (selma)\n",
        "\n",
        "\n",
        "--------------------------------------------------\n",
        "**RQ2: does shap help in finding disc clusters?**\n",
        "\n",
        "FS = all columns except error\n",
        "\n",
        "S = only SHAP_COL\n",
        "\n",
        "F = only BASIC_COL\n"
      ],
      "metadata": {
        "id": "YxxgBsfJ69iT"
      }
    },
    {
      "cell_type": "markdown",
      "source": [
        "# SHAP & ERROR & BASIC COL"
      ],
      "metadata": {
        "id": "mh3mtFiXSQGE"
      }
    },
    {
      "cell_type": "markdown",
      "source": [
        "***Clustering all columns TP FN DATA***"
      ],
      "metadata": {
        "id": "4bYXg1id6kTr"
      }
    },
    {
      "cell_type": "code",
      "source": [
        "clustered_shap_err_basic_TPFN = hbac_kmeans(data=TPFN_init, columns_to_use=BASIC_COL_scaled + DUMMY_COL_scaled + ERROR_COL_scaled + SHAP_BASIC_scaled + SHAP_DUMMY_scaled, error='errors', max_iter=1000, show_plot=True)\n",
        "plt.show()"
      ],
      "metadata": {
        "id": "R4L496pDztCH",
        "colab": {
          "base_uri": "https://localhost:8080/"
        },
        "outputId": "b8320e95-7697-459c-a14d-3cdf62a8da35"
      },
      "execution_count": null,
      "outputs": [
        {
          "output_type": "stream",
          "name": "stdout",
          "text": [
            "Error rate: 0.4421148587055606\n",
            "Discriminative bias: -0.005794103988579491\n",
            "Smallest cluster size: 1097\n",
            "Max iterations reached\n",
            "[0.4421148587055606, 0.4421148587055606, 0.4421148587055606, 0.4421148587055606, 0.4421148587055606, 0.4421148587055606, 0.4421148587055606, 0.4421148587055606, 0.4421148587055606, 0.4421148587055606, 0.4421148587055606, 0.4421148587055606, 0.4421148587055606, 0.4421148587055606, 0.4421148587055606, 0.4421148587055606, 0.4421148587055606, 0.4421148587055606, 0.4421148587055606, 0.4421148587055606, 0.4421148587055606, 0.4421148587055606, 0.4421148587055606, 0.4421148587055606, 0.4421148587055606, 0.4421148587055606, 0.4421148587055606, 0.4421148587055606, 0.4421148587055606, 0.4421148587055606, 0.4421148587055606, 0.4421148587055606, 0.4421148587055606, 0.4421148587055606, 0.4421148587055606, 0.4421148587055606, 0.4421148587055606, 0.4421148587055606, 0.4421148587055606, 0.4421148587055606, 0.4421148587055606, 0.4421148587055606, 0.4421148587055606, 0.4421148587055606, 0.4421148587055606, 0.4421148587055606, 0.4421148587055606, 0.4421148587055606, 0.4421148587055606, 0.4421148587055606, 0.4421148587055606, 0.4421148587055606, 0.4421148587055606, 0.4421148587055606, 0.4421148587055606, 0.4421148587055606, 0.4421148587055606, 0.4421148587055606, 0.4421148587055606, 0.4421148587055606, 0.4421148587055606, 0.4421148587055606, 0.4421148587055606, 0.4421148587055606, 0.4421148587055606, 0.4421148587055606, 0.4421148587055606, 0.4421148587055606, 0.4421148587055606, 0.4421148587055606, 0.4421148587055606, 0.4421148587055606, 0.4421148587055606, 0.4421148587055606, 0.4421148587055606, 0.4421148587055606, 0.4421148587055606, 0.4421148587055606, 0.4421148587055606, 0.4421148587055606, 0.4421148587055606, 0.4421148587055606, 0.4421148587055606, 0.4421148587055606, 0.4421148587055606, 0.4421148587055606, 0.4421148587055606, 0.4421148587055606, 0.4421148587055606, 0.4421148587055606, 0.4421148587055606, 0.4421148587055606, 0.4421148587055606, 0.4421148587055606, 0.4421148587055606, 0.4421148587055606, 0.4421148587055606, 0.4421148587055606, 0.4421148587055606, 0.4421148587055606, 0.4421148587055606, 0.4421148587055606, 0.4421148587055606, 0.4421148587055606, 0.4421148587055606, 0.4421148587055606, 0.4421148587055606, 0.4421148587055606, 0.4421148587055606, 0.4421148587055606, 0.4421148587055606, 0.4421148587055606, 0.4421148587055606, 0.4421148587055606, 0.4421148587055606, 0.4421148587055606, 0.4421148587055606, 0.4421148587055606, 0.4421148587055606, 0.4421148587055606, 0.4421148587055606, 0.4421148587055606, 0.4421148587055606, 0.4421148587055606, 0.4421148587055606, 0.4421148587055606, 0.4421148587055606, 0.4421148587055606, 0.4421148587055606, 0.4421148587055606, 0.4421148587055606, 0.4421148587055606, 0.4421148587055606, 0.4421148587055606, 0.4421148587055606, 0.4421148587055606, 0.4421148587055606, 0.4421148587055606, 0.4421148587055606, 0.4421148587055606, 0.4421148587055606, 0.4421148587055606, 0.4421148587055606, 0.4421148587055606, 0.4421148587055606, 0.4421148587055606, 0.4421148587055606, 0.4421148587055606, 0.4421148587055606, 0.4421148587055606, 0.4421148587055606, 0.4421148587055606, 0.4421148587055606, 0.4421148587055606, 0.4421148587055606, 0.4421148587055606, 0.4421148587055606, 0.4421148587055606, 0.4421148587055606, 0.4421148587055606, 0.4421148587055606, 0.4421148587055606, 0.4421148587055606, 0.4421148587055606, 0.4421148587055606, 0.4421148587055606, 0.4421148587055606, 0.4421148587055606, 0.4421148587055606, 0.4421148587055606, 0.4421148587055606, 0.4421148587055606, 0.4421148587055606, 0.4421148587055606, 0.4421148587055606, 0.4421148587055606, 0.4421148587055606, 0.4421148587055606, 0.4421148587055606, 0.4421148587055606, 0.4421148587055606, 0.4421148587055606, 0.4421148587055606, 0.4421148587055606, 0.4421148587055606, 0.4421148587055606, 0.4421148587055606, 0.4421148587055606, 0.4421148587055606, 0.4421148587055606, 0.4421148587055606, 0.4421148587055606, 0.4421148587055606, 0.4421148587055606, 0.4421148587055606, 0.4421148587055606, 0.4421148587055606, 0.4421148587055606, 0.4421148587055606, 0.4421148587055606, 0.4421148587055606, 0.4421148587055606, 0.4421148587055606, 0.4421148587055606, 0.4421148587055606, 0.4421148587055606, 0.4421148587055606, 0.4421148587055606, 0.4421148587055606, 0.4421148587055606, 0.4421148587055606, 0.4421148587055606, 0.4421148587055606, 0.4421148587055606, 0.4421148587055606, 0.4421148587055606, 0.4421148587055606, 0.4421148587055606, 0.4421148587055606, 0.4421148587055606, 0.4421148587055606, 0.4421148587055606, 0.4421148587055606, 0.4421148587055606, 0.4421148587055606, 0.4421148587055606, 0.4421148587055606, 0.4421148587055606, 0.4421148587055606, 0.4421148587055606, 0.4421148587055606, 0.4421148587055606, 0.4421148587055606, 0.4421148587055606, 0.4421148587055606, 0.4421148587055606, 0.4421148587055606, 0.4421148587055606, 0.4421148587055606, 0.4421148587055606, 0.4421148587055606, 0.4421148587055606, 0.4421148587055606, 0.4421148587055606, 0.4421148587055606, 0.4421148587055606, 0.4421148587055606, 0.4421148587055606, 0.4421148587055606, 0.4421148587055606, 0.4421148587055606, 0.4421148587055606, 0.4421148587055606, 0.4421148587055606, 0.4421148587055606, 0.4421148587055606, 0.4421148587055606, 0.4421148587055606, 0.4421148587055606, 0.4421148587055606, 0.4421148587055606, 0.4421148587055606, 0.4421148587055606, 0.4421148587055606, 0.4421148587055606, 0.4421148587055606, 0.4421148587055606, 0.4421148587055606, 0.4421148587055606, 0.4421148587055606, 0.4421148587055606, 0.4421148587055606, 0.4421148587055606, 0.4421148587055606, 0.4421148587055606, 0.4421148587055606, 0.4421148587055606, 0.4421148587055606, 0.4421148587055606, 0.4421148587055606, 0.4421148587055606, 0.4421148587055606, 0.4421148587055606, 0.4421148587055606, 0.4421148587055606, 0.4421148587055606, 0.4421148587055606, 0.4421148587055606, 0.4421148587055606, 0.4421148587055606, 0.4421148587055606, 0.4421148587055606, 0.4421148587055606, 0.4421148587055606, 0.4421148587055606, 0.4421148587055606, 0.4421148587055606, 0.4421148587055606, 0.4421148587055606, 0.4421148587055606, 0.4421148587055606, 0.4421148587055606, 0.4421148587055606, 0.4421148587055606, 0.4421148587055606, 0.4421148587055606, 0.4421148587055606, 0.4421148587055606, 0.4421148587055606, 0.4421148587055606, 0.4421148587055606, 0.4421148587055606, 0.4421148587055606, 0.4421148587055606, 0.4421148587055606, 0.4421148587055606, 0.4421148587055606, 0.4421148587055606, 0.4421148587055606, 0.4421148587055606, 0.4421148587055606, 0.4421148587055606, 0.4421148587055606, 0.4421148587055606, 0.4421148587055606, 0.4421148587055606, 0.4421148587055606, 0.4421148587055606, 0.4421148587055606, 0.4421148587055606, 0.4421148587055606, 0.4421148587055606, 0.4421148587055606, 0.4421148587055606, 0.4421148587055606, 0.4421148587055606, 0.4421148587055606, 0.4421148587055606, 0.4421148587055606, 0.4421148587055606, 0.4421148587055606, 0.4421148587055606, 0.4421148587055606, 0.4421148587055606, 0.4421148587055606, 0.4421148587055606, 0.4421148587055606, 0.4421148587055606, 0.4421148587055606, 0.4421148587055606, 0.4421148587055606, 0.4421148587055606, 0.4421148587055606, 0.4421148587055606, 0.4421148587055606, 0.4421148587055606, 0.4421148587055606, 0.4421148587055606, 0.4421148587055606, 0.4421148587055606, 0.4421148587055606, 0.4421148587055606, 0.4421148587055606, 0.4421148587055606, 0.4421148587055606, 0.4421148587055606, 0.4421148587055606, 0.4421148587055606, 0.4421148587055606, 0.4421148587055606, 0.4421148587055606, 0.4421148587055606, 0.4421148587055606, 0.4421148587055606, 0.4421148587055606, 0.4421148587055606, 0.4421148587055606, 0.4421148587055606, 0.4421148587055606, 0.4421148587055606, 0.4421148587055606, 0.4421148587055606, 0.4421148587055606, 0.4421148587055606, 0.4421148587055606, 0.4421148587055606, 0.4421148587055606, 0.4421148587055606, 0.4421148587055606, 0.4421148587055606, 0.4421148587055606, 0.4421148587055606, 0.4421148587055606, 0.4421148587055606, 0.4421148587055606, 0.4421148587055606, 0.4421148587055606, 0.4421148587055606, 0.4421148587055606, 0.4421148587055606, 0.4421148587055606, 0.4421148587055606, 0.4421148587055606, 0.4421148587055606, 0.4421148587055606, 0.4421148587055606, 0.4421148587055606, 0.4421148587055606, 0.4421148587055606, 0.4421148587055606, 0.4421148587055606, 0.4421148587055606, 0.4421148587055606, 0.4421148587055606, 0.4421148587055606, 0.4421148587055606, 0.4421148587055606, 0.4421148587055606, 0.4421148587055606, 0.4421148587055606, 0.4421148587055606, 0.4421148587055606, 0.4421148587055606, 0.4421148587055606, 0.4421148587055606, 0.4421148587055606, 0.4421148587055606, 0.4421148587055606, 0.4421148587055606, 0.4421148587055606, 0.4421148587055606, 0.4421148587055606, 0.4421148587055606, 0.4421148587055606, 0.4421148587055606, 0.4421148587055606, 0.4421148587055606, 0.4421148587055606, 0.4421148587055606, 0.4421148587055606, 0.4421148587055606, 0.4421148587055606, 0.4421148587055606, 0.4421148587055606, 0.4421148587055606, 0.4421148587055606, 0.4421148587055606, 0.4421148587055606, 0.4421148587055606, 0.4421148587055606, 0.4421148587055606, 0.4421148587055606, 0.4421148587055606, 0.4421148587055606, 0.4421148587055606, 0.4421148587055606, 0.4421148587055606, 0.4421148587055606, 0.4421148587055606, 0.4421148587055606, 0.4421148587055606, 0.4421148587055606, 0.4421148587055606, 0.4421148587055606, 0.4421148587055606, 0.4421148587055606, 0.4421148587055606, 0.4421148587055606, 0.4421148587055606, 0.4421148587055606, 0.4421148587055606, 0.4421148587055606, 0.4421148587055606, 0.4421148587055606, 0.4421148587055606, 0.4421148587055606, 0.4421148587055606, 0.4421148587055606, 0.4421148587055606, 0.4421148587055606, 0.4421148587055606, 0.4421148587055606, 0.4421148587055606, 0.4421148587055606, 0.4421148587055606, 0.4421148587055606, 0.4421148587055606, 0.4421148587055606, 0.4421148587055606, 0.4421148587055606, 0.4421148587055606, 0.4421148587055606, 0.4421148587055606, 0.4421148587055606, 0.4421148587055606, 0.4421148587055606, 0.4421148587055606, 0.4421148587055606, 0.4421148587055606, 0.4421148587055606, 0.4421148587055606, 0.4421148587055606, 0.4421148587055606, 0.4421148587055606, 0.4421148587055606, 0.4421148587055606, 0.4421148587055606, 0.4421148587055606, 0.4421148587055606, 0.4421148587055606, 0.4421148587055606, 0.4421148587055606, 0.4421148587055606, 0.4421148587055606, 0.4421148587055606, 0.4421148587055606, 0.4421148587055606, 0.4421148587055606, 0.4421148587055606, 0.4421148587055606, 0.4421148587055606, 0.4421148587055606, 0.4421148587055606, 0.4421148587055606, 0.4421148587055606, 0.4421148587055606, 0.4421148587055606, 0.4421148587055606, 0.4421148587055606, 0.4421148587055606, 0.4421148587055606, 0.4421148587055606, 0.4421148587055606, 0.4421148587055606, 0.4421148587055606, 0.4421148587055606, 0.4421148587055606, 0.4421148587055606, 0.4421148587055606, 0.4421148587055606, 0.4421148587055606, 0.4421148587055606, 0.4421148587055606, 0.4421148587055606, 0.4421148587055606, 0.4421148587055606, 0.4421148587055606, 0.4421148587055606, 0.4421148587055606, 0.4421148587055606, 0.4421148587055606, 0.4421148587055606, 0.4421148587055606, 0.4421148587055606, 0.4421148587055606, 0.4421148587055606, 0.4421148587055606, 0.4421148587055606, 0.4421148587055606, 0.4421148587055606, 0.4421148587055606, 0.4421148587055606, 0.4421148587055606, 0.4421148587055606, 0.4421148587055606, 0.4421148587055606, 0.4421148587055606, 0.4421148587055606, 0.4421148587055606, 0.4421148587055606, 0.4421148587055606, 0.4421148587055606, 0.4421148587055606, 0.4421148587055606, 0.4421148587055606, 0.4421148587055606, 0.4421148587055606, 0.4421148587055606, 0.4421148587055606, 0.4421148587055606, 0.4421148587055606, 0.4421148587055606, 0.4421148587055606, 0.4421148587055606, 0.4421148587055606, 0.4421148587055606, 0.4421148587055606, 0.4421148587055606, 0.4421148587055606, 0.4421148587055606, 0.4421148587055606, 0.4421148587055606, 0.4421148587055606, 0.4421148587055606, 0.4421148587055606, 0.4421148587055606, 0.4421148587055606, 0.4421148587055606, 0.4421148587055606, 0.4421148587055606, 0.4421148587055606, 0.4421148587055606, 0.4421148587055606, 0.4421148587055606, 0.4421148587055606, 0.4421148587055606, 0.4421148587055606, 0.4421148587055606, 0.4421148587055606, 0.4421148587055606, 0.4421148587055606, 0.4421148587055606, 0.4421148587055606, 0.4421148587055606, 0.4421148587055606, 0.4421148587055606, 0.4421148587055606, 0.4421148587055606, 0.4421148587055606, 0.4421148587055606, 0.4421148587055606, 0.4421148587055606, 0.4421148587055606, 0.4421148587055606, 0.4421148587055606, 0.4421148587055606, 0.4421148587055606, 0.4421148587055606, 0.4421148587055606, 0.4421148587055606, 0.4421148587055606, 0.4421148587055606, 0.4421148587055606, 0.4421148587055606, 0.4421148587055606, 0.4421148587055606, 0.4421148587055606, 0.4421148587055606, 0.4421148587055606, 0.4421148587055606, 0.4421148587055606, 0.4421148587055606, 0.4421148587055606, 0.4421148587055606, 0.4421148587055606, 0.4421148587055606, 0.4421148587055606, 0.4421148587055606, 0.4421148587055606, 0.4421148587055606, 0.4421148587055606, 0.4421148587055606, 0.4421148587055606, 0.4421148587055606, 0.4421148587055606, 0.4421148587055606, 0.4421148587055606, 0.4421148587055606, 0.4421148587055606, 0.4421148587055606, 0.4421148587055606, 0.4421148587055606, 0.4421148587055606, 0.4421148587055606, 0.4421148587055606, 0.4421148587055606, 0.4421148587055606, 0.4421148587055606, 0.4421148587055606, 0.4421148587055606, 0.4421148587055606, 0.4421148587055606, 0.4421148587055606, 0.4421148587055606, 0.4421148587055606, 0.4421148587055606, 0.4421148587055606, 0.4421148587055606, 0.4421148587055606, 0.4421148587055606, 0.4421148587055606, 0.4421148587055606, 0.4421148587055606, 0.4421148587055606, 0.4421148587055606, 0.4421148587055606, 0.4421148587055606, 0.4421148587055606, 0.4421148587055606, 0.4421148587055606, 0.4421148587055606, 0.4421148587055606, 0.4421148587055606, 0.4421148587055606, 0.4421148587055606, 0.4421148587055606, 0.4421148587055606, 0.4421148587055606, 0.4421148587055606, 0.4421148587055606, 0.4421148587055606, 0.4421148587055606, 0.4421148587055606, 0.4421148587055606, 0.4421148587055606, 0.4421148587055606, 0.4421148587055606, 0.4421148587055606, 0.4421148587055606, 0.4421148587055606, 0.4421148587055606, 0.4421148587055606, 0.4421148587055606, 0.4421148587055606, 0.4421148587055606, 0.4421148587055606, 0.4421148587055606, 0.4421148587055606, 0.4421148587055606, 0.4421148587055606, 0.4421148587055606, 0.4421148587055606, 0.4421148587055606, 0.4421148587055606, 0.4421148587055606, 0.4421148587055606, 0.4421148587055606, 0.4421148587055606, 0.4421148587055606, 0.4421148587055606, 0.4421148587055606, 0.4421148587055606, 0.4421148587055606, 0.4421148587055606, 0.4421148587055606, 0.4421148587055606, 0.4421148587055606, 0.4421148587055606, 0.4421148587055606, 0.4421148587055606, 0.4421148587055606, 0.4421148587055606, 0.4421148587055606, 0.4421148587055606, 0.4421148587055606, 0.4421148587055606, 0.4421148587055606, 0.4421148587055606, 0.4421148587055606, 0.4421148587055606, 0.4421148587055606, 0.4421148587055606, 0.4421148587055606, 0.4421148587055606, 0.4421148587055606, 0.4421148587055606, 0.4421148587055606, 0.4421148587055606, 0.4421148587055606, 0.4421148587055606, 0.4421148587055606, 0.4421148587055606, 0.4421148587055606, 0.4421148587055606, 0.4421148587055606, 0.4421148587055606, 0.4421148587055606, 0.4421148587055606, 0.4421148587055606, 0.4421148587055606, 0.4421148587055606, 0.4421148587055606, 0.4421148587055606, 0.4421148587055606, 0.4421148587055606, 0.4421148587055606, 0.4421148587055606, 0.4421148587055606, 0.4421148587055606, 0.4421148587055606, 0.4421148587055606, 0.4421148587055606, 0.4421148587055606, 0.4421148587055606, 0.4421148587055606, 0.4421148587055606, 0.4421148587055606, 0.4421148587055606, 0.4421148587055606, 0.4421148587055606, 0.4421148587055606, 0.4421148587055606, 0.4421148587055606, 0.4421148587055606, 0.4421148587055606, 0.4421148587055606, 0.4421148587055606, 0.4421148587055606, 0.4421148587055606, 0.4421148587055606, 0.4421148587055606, 0.4421148587055606, 0.4421148587055606, 0.4421148587055606, 0.4421148587055606, 0.4421148587055606, 0.4421148587055606, 0.4421148587055606, 0.4421148587055606, 0.4421148587055606, 0.4421148587055606, 0.4421148587055606, 0.4421148587055606, 0.4421148587055606, 0.4421148587055606, 0.4421148587055606, 0.4421148587055606, 0.4421148587055606, 0.4421148587055606, 0.4421148587055606, 0.4421148587055606, 0.4421148587055606, 0.4421148587055606, 0.4421148587055606, 0.4421148587055606, 0.4421148587055606, 0.4421148587055606, 0.4421148587055606, 0.4421148587055606, 0.4421148587055606, 0.4421148587055606, 0.4421148587055606, 0.4421148587055606, 0.4421148587055606, 0.4421148587055606, 0.4421148587055606, 0.4421148587055606, 0.4421148587055606, 0.4421148587055606, 0.4421148587055606, 0.4421148587055606, 0.4421148587055606, 0.4421148587055606, 0.4421148587055606, 0.4421148587055606, 0.4421148587055606, 0.4421148587055606, 0.4421148587055606, 0.4421148587055606, 0.4421148587055606, 0.4421148587055606, 0.4421148587055606, 0.4421148587055606, 0.4421148587055606, 0.4421148587055606, 0.4421148587055606, 0.4421148587055606, 0.4421148587055606, 0.4421148587055606, 0.4421148587055606, 0.4421148587055606, 0.4421148587055606, 0.4421148587055606, 0.4421148587055606, 0.4421148587055606, 0.4421148587055606, 0.4421148587055606, 0.4421148587055606, 0.4421148587055606, 0.4421148587055606, 0.4421148587055606, 0.4421148587055606, 0.4421148587055606, 0.4421148587055606, 0.4421148587055606, 0.4421148587055606, 0.4421148587055606, 0.4421148587055606, 0.4421148587055606, 0.4421148587055606, 0.4421148587055606, 0.4421148587055606, 0.4421148587055606, 0.4421148587055606, 0.4421148587055606, 0.4421148587055606, 0.4421148587055606, 0.4421148587055606, 0.4421148587055606, 0.4421148587055606, 0.4421148587055606, 0.4421148587055606, 0.4421148587055606, 0.4421148587055606, 0.4421148587055606, 0.4421148587055606, 0.4421148587055606, 0.4421148587055606, 0.4421148587055606, 0.4421148587055606, 0.4421148587055606, 0.4421148587055606, 0.4421148587055606, 0.4421148587055606, 0.4421148587055606, 0.4421148587055606, 0.4421148587055606, 0.4421148587055606, 0.4421148587055606, 0.4421148587055606, 0.4421148587055606, 0.4421148587055606, 0.4421148587055606, 0.4421148587055606, 0.4421148587055606, 0.4421148587055606, 0.4421148587055606, 0.4421148587055606, 0.4421148587055606, 0.4421148587055606, 0.4421148587055606, 0.4421148587055606, 0.4421148587055606, 0.4421148587055606, 0.4421148587055606, 0.4421148587055606, 0.4421148587055606, 0.4421148587055606, 0.4421148587055606, 0.4421148587055606, 0.4421148587055606, 0.4421148587055606, 0.4421148587055606, 0.4421148587055606, 0.4421148587055606, 0.4421148587055606, 0.4421148587055606, 0.4421148587055606, 0.4421148587055606, 0.4421148587055606, 0.4421148587055606, 0.4421148587055606, 0.4421148587055606, 0.4421148587055606, 0.4421148587055606, 0.4421148587055606, 0.4421148587055606, 0.4421148587055606, 0.4421148587055606, 0.4421148587055606, 0.4421148587055606, 0.4421148587055606, 0.4421148587055606, 0.4421148587055606, 0.4421148587055606, 0.4421148587055606, 0.4421148587055606, 0.4421148587055606, 0.4421148587055606, 0.4421148587055606, 0.4421148587055606, 0.4421148587055606, 0.4421148587055606, 0.4421148587055606, 0.4421148587055606, 0.4421148587055606, 0.4421148587055606, 0.4421148587055606, 0.4421148587055606, 0.4421148587055606, 0.4421148587055606, 0.4421148587055606, 0.4421148587055606, 0.4421148587055606, 0.4421148587055606, 0.4421148587055606, 0.4421148587055606, 0.4421148587055606, 0.4421148587055606, 0.4421148587055606, 0.4421148587055606, 0.4421148587055606, 0.4421148587055606, 0.4421148587055606, 0.4421148587055606, 0.4421148587055606, 0.4421148587055606, 0.4421148587055606, 0.4421148587055606, 0.4421148587055606, 0.4421148587055606, 0.4421148587055606, 0.4421148587055606, 0.4421148587055606, 0.4421148587055606, 0.4421148587055606, 0.4421148587055606, 0.4421148587055606, 0.4421148587055606]\n"
          ]
        }
      ]
    },
    {
      "cell_type": "code",
      "source": [
        "c= get_max_bias_cluster(clustered_shap_err_basic_TPFN)\n",
        "\n",
        "Mean_error_rate_TPFN = get_error_rate(clustered_shap_err_basic_TPFN)\n",
        "\n",
        "print ('Mean error rate of full TPFN data set:', Mean_error_rate_TPFN)\n",
        "\n",
        "print (f\" cluster {c} has the highest discrimination bias for TPFN data\")\n"
      ],
      "metadata": {
        "id": "WyZlLl7Ku6iW",
        "colab": {
          "base_uri": "https://localhost:8080/"
        },
        "outputId": "50916ce4-53f0-47de-a8a9-d76b28b9e9ef"
      },
      "execution_count": null,
      "outputs": [
        {
          "output_type": "stream",
          "name": "stdout",
          "text": [
            "Mean error rate of full TPFN data set: 0.4421148587055606\n",
            " cluster (-2, 0) has the highest discrimination bias for TPFN data\n"
          ]
        }
      ]
    },
    {
      "cell_type": "markdown",
      "source": [
        "***TPFN ALL COLUMNS ANOVA***"
      ],
      "metadata": {
        "id": "FK_n1GA3fKgm"
      }
    },
    {
      "cell_type": "code",
      "source": [
        "'''SHAP, ERROR & BASIC COLUMNS FOR TPFN ANOVA'''\n",
        "#check per identified cluster whether the errors significantly differ\n",
        "groupstpfn = clustered_shap_err_basic_TPFN.groupby('clusters')['errors'].apply(list)\n",
        "anovatpfn = [np.array(groupstpfn) for groupstpfn in groupstpfn]\n",
        "\n",
        "f_stat, p_val = f_oneway(*anovatpfn)\n",
        "\n",
        "print('F-statistic:', f_stat)\n",
        "print('p-value:', p_val)\n",
        "\n",
        "alpha = 0.05\n",
        "if p_val < alpha:\n",
        "  print(\"there are statistically significant differences between the clusters.\")\n",
        "else:\n",
        "  print(\"there are no statistically significant differences between the clusters\")"
      ],
      "metadata": {
        "id": "H5eq8K21umRb",
        "colab": {
          "base_uri": "https://localhost:8080/"
        },
        "outputId": "a2e764b9-1c8a-4a17-a056-2a4c210fc5b1"
      },
      "execution_count": null,
      "outputs": [
        {
          "output_type": "stream",
          "name": "stdout",
          "text": [
            "F-statistic: 0.09390631957908324\n",
            "p-value: 0.7593268629080284\n",
            "there are no statistically significant differences between the clusters\n"
          ]
        }
      ]
    },
    {
      "cell_type": "code",
      "source": [
        "# Prepare the data by melting the dataframe\n",
        "melted_data = clustered_shap_err_basic_TPFN.melt(id_vars=['clusters'], value_vars=['errors'], var_name='Metric', value_name='Error Rate')\n",
        "\n",
        "# Create the violin plot\n",
        "plt.figure(figsize=(10, 6))\n",
        "sns.violinplot(x='clusters', y='Error Rate', data=melted_data, inner='box', scale='width', palette='Set2')\n",
        "plt.title('Distribution of Error Rates Across Clusters')\n",
        "plt.xlabel('Clusters')\n",
        "plt.ylabel('Error Rate')\n",
        "plt.show()"
      ],
      "metadata": {
        "colab": {
          "base_uri": "https://localhost:8080/",
          "height": 564
        },
        "id": "Y6D717auBq_r",
        "outputId": "1c88bc20-b345-49da-ee92-49f07f5a5b99"
      },
      "execution_count": null,
      "outputs": [
        {
          "output_type": "display_data",
          "data": {
            "text/plain": [
              "<Figure size 1000x600 with 1 Axes>"
            ],
            "image/png": "[encoded data removed]"
          },
          "metadata": {}
        }
      ]
    },
    {
      "cell_type": "markdown",
      "source": [
        "***Clustering all columns TN FP DATA***"
      ],
      "metadata": {
        "id": "gR-UqBi_6g-e"
      }
    },
    {
      "cell_type": "code",
      "source": [
        "clustered_shap_err_basic_TNFP = hbac_kmeans(data=TNFP_init, columns_to_use=BASIC_COL_scaled + DUMMY_COL_scaled + ERROR_COL_scaled + SHAP_BASIC_scaled + SHAP_DUMMY_scaled, error='errors', max_iter=300, show_plot=True)\n",
        "plt.show()"
      ],
      "metadata": {
        "id": "H8aEiMm87QRG",
        "colab": {
          "base_uri": "https://localhost:8080/"
        },
        "outputId": "1cac7206-ad94-4dea-ea32-f284add535dc"
      },
      "execution_count": null,
      "outputs": [
        {
          "output_type": "stream",
          "name": "stdout",
          "text": [
            "Error rate: 0.3104434907010014\n",
            "Discriminative bias: -0.004119380029064645\n",
            "Smallest cluster size: 1398\n",
            "Max iterations reached\n",
            "[0.3104434907010014, 0.3104434907010014, 0.3104434907010014, 0.3104434907010014, 0.3104434907010014, 0.3104434907010014, 0.3104434907010014, 0.3104434907010014, 0.3104434907010014, 0.3104434907010014, 0.3104434907010014, 0.3104434907010014, 0.3104434907010014, 0.3104434907010014, 0.3104434907010014, 0.3104434907010014, 0.3104434907010014, 0.3104434907010014, 0.3104434907010014, 0.3104434907010014, 0.3104434907010014, 0.3104434907010014, 0.3104434907010014, 0.3104434907010014, 0.3104434907010014, 0.3104434907010014, 0.3104434907010014, 0.3104434907010014, 0.3104434907010014, 0.3104434907010014, 0.3104434907010014, 0.3104434907010014, 0.3104434907010014, 0.3104434907010014, 0.3104434907010014, 0.3104434907010014, 0.3104434907010014, 0.3104434907010014, 0.3104434907010014, 0.3104434907010014, 0.3104434907010014, 0.3104434907010014, 0.3104434907010014, 0.3104434907010014, 0.3104434907010014, 0.3104434907010014, 0.3104434907010014, 0.3104434907010014, 0.3104434907010014, 0.3104434907010014, 0.3104434907010014, 0.3104434907010014, 0.3104434907010014, 0.3104434907010014, 0.3104434907010014, 0.3104434907010014, 0.3104434907010014, 0.3104434907010014, 0.3104434907010014, 0.3104434907010014, 0.3104434907010014, 0.3104434907010014, 0.3104434907010014, 0.3104434907010014, 0.3104434907010014, 0.3104434907010014, 0.3104434907010014, 0.3104434907010014, 0.3104434907010014, 0.3104434907010014, 0.3104434907010014, 0.3104434907010014, 0.3104434907010014, 0.3104434907010014, 0.3104434907010014, 0.3104434907010014, 0.3104434907010014, 0.3104434907010014, 0.3104434907010014, 0.3104434907010014, 0.3104434907010014, 0.3104434907010014, 0.3104434907010014, 0.3104434907010014, 0.3104434907010014, 0.3104434907010014, 0.3104434907010014, 0.3104434907010014, 0.3104434907010014, 0.3104434907010014, 0.3104434907010014, 0.3104434907010014, 0.3104434907010014, 0.3104434907010014, 0.3104434907010014, 0.3104434907010014, 0.3104434907010014, 0.3104434907010014, 0.3104434907010014, 0.3104434907010014, 0.3104434907010014, 0.3104434907010014, 0.3104434907010014, 0.3104434907010014, 0.3104434907010014, 0.3104434907010014, 0.3104434907010014, 0.3104434907010014, 0.3104434907010014, 0.3104434907010014, 0.3104434907010014, 0.3104434907010014, 0.3104434907010014, 0.3104434907010014, 0.3104434907010014, 0.3104434907010014, 0.3104434907010014, 0.3104434907010014, 0.3104434907010014, 0.3104434907010014, 0.3104434907010014, 0.3104434907010014, 0.3104434907010014, 0.3104434907010014, 0.3104434907010014, 0.3104434907010014, 0.3104434907010014, 0.3104434907010014, 0.3104434907010014, 0.3104434907010014, 0.3104434907010014, 0.3104434907010014, 0.3104434907010014, 0.3104434907010014, 0.3104434907010014, 0.3104434907010014, 0.3104434907010014, 0.3104434907010014, 0.3104434907010014, 0.3104434907010014, 0.3104434907010014, 0.3104434907010014, 0.3104434907010014, 0.3104434907010014, 0.3104434907010014, 0.3104434907010014, 0.3104434907010014, 0.3104434907010014, 0.3104434907010014, 0.3104434907010014, 0.3104434907010014, 0.3104434907010014, 0.3104434907010014, 0.3104434907010014, 0.3104434907010014, 0.3104434907010014, 0.3104434907010014, 0.3104434907010014, 0.3104434907010014, 0.3104434907010014, 0.3104434907010014, 0.3104434907010014, 0.3104434907010014, 0.3104434907010014, 0.3104434907010014, 0.3104434907010014, 0.3104434907010014, 0.3104434907010014, 0.3104434907010014, 0.3104434907010014, 0.3104434907010014, 0.3104434907010014, 0.3104434907010014, 0.3104434907010014, 0.3104434907010014, 0.3104434907010014, 0.3104434907010014, 0.3104434907010014, 0.3104434907010014, 0.3104434907010014, 0.3104434907010014, 0.3104434907010014, 0.3104434907010014, 0.3104434907010014, 0.3104434907010014, 0.3104434907010014, 0.3104434907010014, 0.3104434907010014, 0.3104434907010014, 0.3104434907010014, 0.3104434907010014, 0.3104434907010014, 0.3104434907010014, 0.3104434907010014, 0.3104434907010014, 0.3104434907010014, 0.3104434907010014, 0.3104434907010014, 0.3104434907010014, 0.3104434907010014, 0.3104434907010014, 0.3104434907010014, 0.3104434907010014, 0.3104434907010014, 0.3104434907010014, 0.3104434907010014, 0.3104434907010014, 0.3104434907010014, 0.3104434907010014, 0.3104434907010014, 0.3104434907010014, 0.3104434907010014, 0.3104434907010014, 0.3104434907010014, 0.3104434907010014, 0.3104434907010014, 0.3104434907010014, 0.3104434907010014, 0.3104434907010014, 0.3104434907010014, 0.3104434907010014, 0.3104434907010014, 0.3104434907010014, 0.3104434907010014, 0.3104434907010014, 0.3104434907010014, 0.3104434907010014, 0.3104434907010014, 0.3104434907010014, 0.3104434907010014, 0.3104434907010014, 0.3104434907010014, 0.3104434907010014, 0.3104434907010014, 0.3104434907010014, 0.3104434907010014, 0.3104434907010014, 0.3104434907010014, 0.3104434907010014, 0.3104434907010014, 0.3104434907010014, 0.3104434907010014, 0.3104434907010014, 0.3104434907010014, 0.3104434907010014, 0.3104434907010014, 0.3104434907010014, 0.3104434907010014, 0.3104434907010014, 0.3104434907010014, 0.3104434907010014, 0.3104434907010014, 0.3104434907010014, 0.3104434907010014, 0.3104434907010014, 0.3104434907010014, 0.3104434907010014, 0.3104434907010014, 0.3104434907010014, 0.3104434907010014, 0.3104434907010014, 0.3104434907010014, 0.3104434907010014, 0.3104434907010014, 0.3104434907010014, 0.3104434907010014, 0.3104434907010014, 0.3104434907010014, 0.3104434907010014, 0.3104434907010014, 0.3104434907010014, 0.3104434907010014, 0.3104434907010014, 0.3104434907010014, 0.3104434907010014, 0.3104434907010014, 0.3104434907010014, 0.3104434907010014, 0.3104434907010014, 0.3104434907010014, 0.3104434907010014, 0.3104434907010014, 0.3104434907010014, 0.3104434907010014, 0.3104434907010014, 0.3104434907010014, 0.3104434907010014, 0.3104434907010014, 0.3104434907010014, 0.3104434907010014, 0.3104434907010014, 0.3104434907010014, 0.3104434907010014, 0.3104434907010014, 0.3104434907010014, 0.3104434907010014, 0.3104434907010014, 0.3104434907010014, 0.3104434907010014]\n"
          ]
        }
      ]
    },
    {
      "cell_type": "code",
      "source": [
        "c= get_max_bias_cluster(clustered_shap_err_basic_TNFP)\n",
        "\n",
        "Mean_error_rate_TNFP = get_error_rate(clustered_shap_err_basic_TNFP)\n",
        "\n",
        "print ('Mean error rate of full TNFP data set:', Mean_error_rate_TNFP)\n",
        "\n",
        "print (f\" cluster {c} has the highest discrimination bias for TNFP data\")\n"
      ],
      "metadata": {
        "id": "niZ4E-xj8JS9",
        "colab": {
          "base_uri": "https://localhost:8080/"
        },
        "outputId": "4e66a6ac-0134-4ded-f0f8-a6239c9f8cda"
      },
      "execution_count": null,
      "outputs": [
        {
          "output_type": "stream",
          "name": "stdout",
          "text": [
            "Mean error rate of full TNFP data set: 0.3104434907010014\n",
            " cluster (-2, 0) has the highest discrimination bias for TNFP data\n"
          ]
        }
      ]
    },
    {
      "cell_type": "markdown",
      "source": [
        "***TNFP ALL COLUMNS ANOVA***"
      ],
      "metadata": {
        "id": "k5bOGAT5RcWb"
      }
    },
    {
      "cell_type": "code",
      "source": [
        "'''SHAP, ERROR & BASIC COLUMNS FOR TNFP ANOVA'''\n",
        "groupstnfp = clustered_shap_err_basic_TNFP.groupby('clusters')['FP'].apply(list)\n",
        "anovatnfp = [np.array(groupstnfp) for groupstnfp in groupstnfp]\n",
        "\n",
        "f_stat, p_val = f_oneway(*anovatnfp)\n",
        "\n",
        "print('F-statistic:', f_stat)\n",
        "print('p-value:', p_val)\n",
        "\n",
        "alpha = 0.05\n",
        "if p_val < alpha:\n",
        "  print(\"there are statistically significant differences between the clusters.\")\n",
        "else:\n",
        "  print(\"there are no statistically significant differences between the clusters\")"
      ],
      "metadata": {
        "id": "KPAFNlzT_v8-",
        "colab": {
          "base_uri": "https://localhost:8080/"
        },
        "outputId": "76b0ebba-737d-4232-fcbe-10b3a476bdab"
      },
      "execution_count": null,
      "outputs": [
        {
          "output_type": "stream",
          "name": "stdout",
          "text": [
            "F-statistic: 0.0627771951871686\n",
            "p-value: 0.8021959917743023\n",
            "there are no statistically significant differences between the clusters\n"
          ]
        }
      ]
    },
    {
      "cell_type": "code",
      "source": [
        "# Prepare the data by melting the dataframe\n",
        "melted_data = clustered_shap_err_basic_TNFP.melt(id_vars=['clusters'], value_vars=['errors'], var_name='Metric', value_name='Error Rate')\n",
        "\n",
        "# Create the violin plot\n",
        "plt.figure(figsize=(10, 6))\n",
        "sns.violinplot(x='clusters', y='Error Rate', data=melted_data, inner='box', scale='width', palette='Set2')\n",
        "plt.title('Distribution of Error Rates Across Clusters')\n",
        "plt.xlabel('Clusters')\n",
        "plt.ylabel('Error Rate')\n",
        "plt.show()"
      ],
      "metadata": {
        "colab": {
          "base_uri": "https://localhost:8080/",
          "height": 564
        },
        "id": "iV6ebT4SECmL",
        "outputId": "66152e2a-2905-4165-e33e-eee9c2e85d69"
      },
      "execution_count": null,
      "outputs": [
        {
          "output_type": "display_data",
          "data": {
            "text/plain": [
              "<Figure size 1000x600 with 1 Axes>"
            ],
            "image/png": "[encoded data removed]"
          },
          "metadata": {}
        }
      ]
    },
    {
      "cell_type": "markdown",
      "source": [
        "# SHAP & ERROR COLUMNS NO BASIC FEATURES"
      ],
      "metadata": {
        "id": "VRr-JGmoSNyO"
      }
    },
    {
      "cell_type": "code",
      "source": [
        "'''SE: SHAP_COL and ERROR_COL no BASIC_COL '''\n",
        "columns = ERROR_COL_scaled + SHAP_BASIC_scaled + SHAP_DUMMY_scaled + META_COL + META_COL_VIZ\n",
        "SE_TPFN = TPFN_init[columns]\n",
        "SE_TNFP = TNFP_init[columns] #scaled\n",
        "\n",
        "#SE_TPFN.iloc[3]\n",
        "SE_TNFP.iloc[3]"
      ],
      "metadata": {
        "id": "USVopU1opVUW",
        "colab": {
          "base_uri": "https://localhost:8080/"
        },
        "outputId": "ab744099-4b23-403d-8573-952e50195fbe"
      },
      "execution_count": null,
      "outputs": [
        {
          "output_type": "execute_result",
          "data": {
            "text/plain": [
              "errors_scaled                        1.327722\n",
              "TP_scaled                           -0.573496\n",
              "TN_scaled                           -0.800528\n",
              "FN_scaled                           -0.492612\n",
              "FP_scaled                            2.236068\n",
              "Shap_age_scaled                     -0.279174\n",
              "Shap_decile_score_scaled            -0.800271\n",
              "Shap_priors_count_scaled            -0.531185\n",
              "Shap_sex_Female_scaled               0.273211\n",
              "Shap_race_African-American_scaled    0.543617\n",
              "Shap_race_Asian_scaled              -0.054634\n",
              "Shap_race_Caucasian_scaled           1.949653\n",
              "Shap_race_Hispanic_scaled            0.065513\n",
              "Shap_race_Native American_scaled     0.042717\n",
              "Shap_race_Other_scaled               0.178203\n",
              "clusters                                    0\n",
              "new_clusters                                0\n",
              "Error_Type                                 TN\n",
              "Name: 5, dtype: object"
            ]
          },
          "metadata": {},
          "execution_count": 40
        }
      ]
    },
    {
      "cell_type": "markdown",
      "source": [
        "***SHAP AND ERROR KMEANS ON TPFN***"
      ],
      "metadata": {
        "id": "JHoG0P2eU4tk"
      }
    },
    {
      "cell_type": "code",
      "source": [
        "'''KMEANS SHAP & ERROR COLUMNS FOR TPFN '''\n",
        "Clustered_shap_err_TPFN = hbac_kmeans(data=TPFN_init, columns_to_use=ERROR_COL_scaled + SHAP_BASIC_scaled + SHAP_DUMMY_scaled, error='errors', max_iter=300, show_plot=True)\n",
        "plt.show()"
      ],
      "metadata": {
        "id": "OeIa2jdkqu52",
        "colab": {
          "base_uri": "https://localhost:8080/"
        },
        "outputId": "aaa4a5b7-2057-449e-bfab-3eab528b39bc"
      },
      "execution_count": null,
      "outputs": [
        {
          "output_type": "stream",
          "name": "stdout",
          "text": [
            "Error rate: 0.4421148587055606\n",
            "Discriminative bias: -0.005794103988579491\n",
            "Smallest cluster size: 1097\n",
            "Max iterations reached\n",
            "[0.4421148587055606, 0.4421148587055606, 0.4421148587055606, 0.4421148587055606, 0.4421148587055606, 0.4421148587055606, 0.4421148587055606, 0.4421148587055606, 0.4421148587055606, 0.4421148587055606, 0.4421148587055606, 0.4421148587055606, 0.4421148587055606, 0.4421148587055606, 0.4421148587055606, 0.4421148587055606, 0.4421148587055606, 0.4421148587055606, 0.4421148587055606, 0.4421148587055606, 0.4421148587055606, 0.4421148587055606, 0.4421148587055606, 0.4421148587055606, 0.4421148587055606, 0.4421148587055606, 0.4421148587055606, 0.4421148587055606, 0.4421148587055606, 0.4421148587055606, 0.4421148587055606, 0.4421148587055606, 0.4421148587055606, 0.4421148587055606, 0.4421148587055606, 0.4421148587055606, 0.4421148587055606, 0.4421148587055606, 0.4421148587055606, 0.4421148587055606, 0.4421148587055606, 0.4421148587055606, 0.4421148587055606, 0.4421148587055606, 0.4421148587055606, 0.4421148587055606, 0.4421148587055606, 0.4421148587055606, 0.4421148587055606, 0.4421148587055606, 0.4421148587055606, 0.4421148587055606, 0.4421148587055606, 0.4421148587055606, 0.4421148587055606, 0.4421148587055606, 0.4421148587055606, 0.4421148587055606, 0.4421148587055606, 0.4421148587055606, 0.4421148587055606, 0.4421148587055606, 0.4421148587055606, 0.4421148587055606, 0.4421148587055606, 0.4421148587055606, 0.4421148587055606, 0.4421148587055606, 0.4421148587055606, 0.4421148587055606, 0.4421148587055606, 0.4421148587055606, 0.4421148587055606, 0.4421148587055606, 0.4421148587055606, 0.4421148587055606, 0.4421148587055606, 0.4421148587055606, 0.4421148587055606, 0.4421148587055606, 0.4421148587055606, 0.4421148587055606, 0.4421148587055606, 0.4421148587055606, 0.4421148587055606, 0.4421148587055606, 0.4421148587055606, 0.4421148587055606, 0.4421148587055606, 0.4421148587055606, 0.4421148587055606, 0.4421148587055606, 0.4421148587055606, 0.4421148587055606, 0.4421148587055606, 0.4421148587055606, 0.4421148587055606, 0.4421148587055606, 0.4421148587055606, 0.4421148587055606, 0.4421148587055606, 0.4421148587055606, 0.4421148587055606, 0.4421148587055606, 0.4421148587055606, 0.4421148587055606, 0.4421148587055606, 0.4421148587055606, 0.4421148587055606, 0.4421148587055606, 0.4421148587055606, 0.4421148587055606, 0.4421148587055606, 0.4421148587055606, 0.4421148587055606, 0.4421148587055606, 0.4421148587055606, 0.4421148587055606, 0.4421148587055606, 0.4421148587055606, 0.4421148587055606, 0.4421148587055606, 0.4421148587055606, 0.4421148587055606, 0.4421148587055606, 0.4421148587055606, 0.4421148587055606, 0.4421148587055606, 0.4421148587055606, 0.4421148587055606, 0.4421148587055606, 0.4421148587055606, 0.4421148587055606, 0.4421148587055606, 0.4421148587055606, 0.4421148587055606, 0.4421148587055606, 0.4421148587055606, 0.4421148587055606, 0.4421148587055606, 0.4421148587055606, 0.4421148587055606, 0.4421148587055606, 0.4421148587055606, 0.4421148587055606, 0.4421148587055606, 0.4421148587055606, 0.4421148587055606, 0.4421148587055606, 0.4421148587055606, 0.4421148587055606, 0.4421148587055606, 0.4421148587055606, 0.4421148587055606, 0.4421148587055606, 0.4421148587055606, 0.4421148587055606, 0.4421148587055606, 0.4421148587055606, 0.4421148587055606, 0.4421148587055606, 0.4421148587055606, 0.4421148587055606, 0.4421148587055606, 0.4421148587055606, 0.4421148587055606, 0.4421148587055606, 0.4421148587055606, 0.4421148587055606, 0.4421148587055606, 0.4421148587055606, 0.4421148587055606, 0.4421148587055606, 0.4421148587055606, 0.4421148587055606, 0.4421148587055606, 0.4421148587055606, 0.4421148587055606, 0.4421148587055606, 0.4421148587055606, 0.4421148587055606, 0.4421148587055606, 0.4421148587055606, 0.4421148587055606, 0.4421148587055606, 0.4421148587055606, 0.4421148587055606, 0.4421148587055606, 0.4421148587055606, 0.4421148587055606, 0.4421148587055606, 0.4421148587055606, 0.4421148587055606, 0.4421148587055606, 0.4421148587055606, 0.4421148587055606, 0.4421148587055606, 0.4421148587055606, 0.4421148587055606, 0.4421148587055606, 0.4421148587055606, 0.4421148587055606, 0.4421148587055606, 0.4421148587055606, 0.4421148587055606, 0.4421148587055606, 0.4421148587055606, 0.4421148587055606, 0.4421148587055606, 0.4421148587055606, 0.4421148587055606, 0.4421148587055606, 0.4421148587055606, 0.4421148587055606, 0.4421148587055606, 0.4421148587055606, 0.4421148587055606, 0.4421148587055606, 0.4421148587055606, 0.4421148587055606, 0.4421148587055606, 0.4421148587055606, 0.4421148587055606, 0.4421148587055606, 0.4421148587055606, 0.4421148587055606, 0.4421148587055606, 0.4421148587055606, 0.4421148587055606, 0.4421148587055606, 0.4421148587055606, 0.4421148587055606, 0.4421148587055606, 0.4421148587055606, 0.4421148587055606, 0.4421148587055606, 0.4421148587055606, 0.4421148587055606, 0.4421148587055606, 0.4421148587055606, 0.4421148587055606, 0.4421148587055606, 0.4421148587055606, 0.4421148587055606, 0.4421148587055606, 0.4421148587055606, 0.4421148587055606, 0.4421148587055606, 0.4421148587055606, 0.4421148587055606, 0.4421148587055606, 0.4421148587055606, 0.4421148587055606, 0.4421148587055606, 0.4421148587055606, 0.4421148587055606, 0.4421148587055606, 0.4421148587055606, 0.4421148587055606, 0.4421148587055606, 0.4421148587055606, 0.4421148587055606, 0.4421148587055606, 0.4421148587055606, 0.4421148587055606, 0.4421148587055606, 0.4421148587055606, 0.4421148587055606, 0.4421148587055606, 0.4421148587055606, 0.4421148587055606, 0.4421148587055606, 0.4421148587055606, 0.4421148587055606, 0.4421148587055606, 0.4421148587055606, 0.4421148587055606, 0.4421148587055606, 0.4421148587055606, 0.4421148587055606, 0.4421148587055606, 0.4421148587055606, 0.4421148587055606, 0.4421148587055606, 0.4421148587055606, 0.4421148587055606, 0.4421148587055606, 0.4421148587055606, 0.4421148587055606, 0.4421148587055606, 0.4421148587055606, 0.4421148587055606, 0.4421148587055606, 0.4421148587055606, 0.4421148587055606, 0.4421148587055606, 0.4421148587055606, 0.4421148587055606, 0.4421148587055606]\n"
          ]
        }
      ]
    },
    {
      "cell_type": "code",
      "source": [
        "c= get_max_bias_cluster(Clustered_shap_err_TPFN)\n",
        "\n",
        "Mean_error_rate_SE_TPFN = get_error_rate(Clustered_shap_err_TPFN, 'errors')\n",
        "\n",
        "print ('Mean error rate of SE_TPFN data set:', Mean_error_rate_SE_TPFN)\n",
        "\n",
        "print (f\" cluster {c} has the highest discrimination bias for TPFN data\")"
      ],
      "metadata": {
        "id": "fkNmRgu-UB2E",
        "colab": {
          "base_uri": "https://localhost:8080/"
        },
        "outputId": "03a705ba-8559-4727-8904-a71920521ec1"
      },
      "execution_count": null,
      "outputs": [
        {
          "output_type": "stream",
          "name": "stdout",
          "text": [
            "Mean error rate of SE_TPFN data set: 0.4421148587055606\n",
            " cluster (-2, 0) has the highest discrimination bias for TPFN data\n"
          ]
        }
      ]
    },
    {
      "cell_type": "code",
      "source": [
        "melted_data = Clustered_shap_err_TPFN.melt(id_vars=['clusters'], value_vars=['errors'], var_name='Metric', value_name='Error Rate')\n",
        "\n",
        "# Create the violin plot\n",
        "plt.figure(figsize=(10, 6))\n",
        "sns.violinplot(x='clusters', y='Error Rate', data=melted_data, inner='box', scale='width', palette='Set2')\n",
        "plt.title('Distribution of Error Rates Across Clusters')\n",
        "plt.xlabel('Clusters')\n",
        "plt.ylabel('Error Rate')\n",
        "plt.show()"
      ],
      "metadata": {
        "colab": {
          "base_uri": "https://localhost:8080/",
          "height": 564
        },
        "id": "8zhz1aLOFrUH",
        "outputId": "0dbd7d39-44fa-4073-acd7-33415734b729"
      },
      "execution_count": null,
      "outputs": [
        {
          "output_type": "display_data",
          "data": {
            "text/plain": [
              "<Figure size 1000x600 with 1 Axes>"
            ],
            "image/png": "[encoded data removed]"
          },
          "metadata": {}
        }
      ]
    },
    {
      "cell_type": "markdown",
      "source": [
        "***SHAP AND ERROR ANOVA ON TPFN***"
      ],
      "metadata": {
        "id": "P5kLuitzU9rr"
      }
    },
    {
      "cell_type": "code",
      "source": [
        "'''SHAP & ERROR COLUMNS FOR TPFN ANOVA'''\n",
        "groupsSE_tpfn = Clustered_shap_err_TPFN.groupby('clusters')['errors'].apply(list)\n",
        "anovaSE_tpfn = [np.array(groupsSE_tpfn) for groupsSE_tpfn in groupsSE_tpfn]\n",
        "\n",
        "f_stat, p_val = f_oneway(*anovaSE_tpfn)\n",
        "\n",
        "print('F-statistic:', f_stat)\n",
        "print('p-value:', p_val)\n",
        "\n",
        "alpha = 0.05\n",
        "if p_val < alpha:\n",
        "  print(\"there are statistically significant differences between the clusters.\")\n",
        "else:\n",
        "  print(\"there are no statistically significant differences between the clusters\")"
      ],
      "metadata": {
        "id": "iYwsB8NFSqeL",
        "colab": {
          "base_uri": "https://localhost:8080/"
        },
        "outputId": "616464c1-d028-43e6-f7ae-d80d7c651d31"
      },
      "execution_count": null,
      "outputs": [
        {
          "output_type": "stream",
          "name": "stdout",
          "text": [
            "F-statistic: 0.09390631957908324\n",
            "p-value: 0.7593268629080284\n",
            "there are no statistically significant differences between the clusters\n"
          ]
        }
      ]
    },
    {
      "cell_type": "markdown",
      "source": [
        "***SHAP AND ERROR KMEANS ON TNFP***"
      ],
      "metadata": {
        "id": "BhlBJ9yFUo_P"
      }
    },
    {
      "cell_type": "code",
      "source": [
        "'''KMEANS SHAP & ERROR COLUMNS FOR TNFP'''\n",
        "Clustered_shap_err_TNFP = hbac_kmeans(data = TNFP_init, columns_to_use=ERROR_COL_scaled + SHAP_BASIC_scaled + SHAP_DUMMY_scaled, error='errors', max_iter=300, show_plot=True)\n",
        "plt.show()"
      ],
      "metadata": {
        "id": "Yg4qpU9JSbYL",
        "colab": {
          "base_uri": "https://localhost:8080/"
        },
        "outputId": "047f5669-f1e8-495c-98a1-338fd670fe4a"
      },
      "execution_count": null,
      "outputs": [
        {
          "output_type": "stream",
          "name": "stdout",
          "text": [
            "Error rate: 0.3104434907010014\n",
            "Discriminative bias: -0.004119380029064645\n",
            "Smallest cluster size: 1398\n",
            "Max iterations reached\n",
            "[0.3104434907010014, 0.3104434907010014, 0.3104434907010014, 0.3104434907010014, 0.3104434907010014, 0.3104434907010014, 0.3104434907010014, 0.3104434907010014, 0.3104434907010014, 0.3104434907010014, 0.3104434907010014, 0.3104434907010014, 0.3104434907010014, 0.3104434907010014, 0.3104434907010014, 0.3104434907010014, 0.3104434907010014, 0.3104434907010014, 0.3104434907010014, 0.3104434907010014, 0.3104434907010014, 0.3104434907010014, 0.3104434907010014, 0.3104434907010014, 0.3104434907010014, 0.3104434907010014, 0.3104434907010014, 0.3104434907010014, 0.3104434907010014, 0.3104434907010014, 0.3104434907010014, 0.3104434907010014, 0.3104434907010014, 0.3104434907010014, 0.3104434907010014, 0.3104434907010014, 0.3104434907010014, 0.3104434907010014, 0.3104434907010014, 0.3104434907010014, 0.3104434907010014, 0.3104434907010014, 0.3104434907010014, 0.3104434907010014, 0.3104434907010014, 0.3104434907010014, 0.3104434907010014, 0.3104434907010014, 0.3104434907010014, 0.3104434907010014, 0.3104434907010014, 0.3104434907010014, 0.3104434907010014, 0.3104434907010014, 0.3104434907010014, 0.3104434907010014, 0.3104434907010014, 0.3104434907010014, 0.3104434907010014, 0.3104434907010014, 0.3104434907010014, 0.3104434907010014, 0.3104434907010014, 0.3104434907010014, 0.3104434907010014, 0.3104434907010014, 0.3104434907010014, 0.3104434907010014, 0.3104434907010014, 0.3104434907010014, 0.3104434907010014, 0.3104434907010014, 0.3104434907010014, 0.3104434907010014, 0.3104434907010014, 0.3104434907010014, 0.3104434907010014, 0.3104434907010014, 0.3104434907010014, 0.3104434907010014, 0.3104434907010014, 0.3104434907010014, 0.3104434907010014, 0.3104434907010014, 0.3104434907010014, 0.3104434907010014, 0.3104434907010014, 0.3104434907010014, 0.3104434907010014, 0.3104434907010014, 0.3104434907010014, 0.3104434907010014, 0.3104434907010014, 0.3104434907010014, 0.3104434907010014, 0.3104434907010014, 0.3104434907010014, 0.3104434907010014, 0.3104434907010014, 0.3104434907010014, 0.3104434907010014, 0.3104434907010014, 0.3104434907010014, 0.3104434907010014, 0.3104434907010014, 0.3104434907010014, 0.3104434907010014, 0.3104434907010014, 0.3104434907010014, 0.3104434907010014, 0.3104434907010014, 0.3104434907010014, 0.3104434907010014, 0.3104434907010014, 0.3104434907010014, 0.3104434907010014, 0.3104434907010014, 0.3104434907010014, 0.3104434907010014, 0.3104434907010014, 0.3104434907010014, 0.3104434907010014, 0.3104434907010014, 0.3104434907010014, 0.3104434907010014, 0.3104434907010014, 0.3104434907010014, 0.3104434907010014, 0.3104434907010014, 0.3104434907010014, 0.3104434907010014, 0.3104434907010014, 0.3104434907010014, 0.3104434907010014, 0.3104434907010014, 0.3104434907010014, 0.3104434907010014, 0.3104434907010014, 0.3104434907010014, 0.3104434907010014, 0.3104434907010014, 0.3104434907010014, 0.3104434907010014, 0.3104434907010014, 0.3104434907010014, 0.3104434907010014, 0.3104434907010014, 0.3104434907010014, 0.3104434907010014, 0.3104434907010014, 0.3104434907010014, 0.3104434907010014, 0.3104434907010014, 0.3104434907010014, 0.3104434907010014, 0.3104434907010014, 0.3104434907010014, 0.3104434907010014, 0.3104434907010014, 0.3104434907010014, 0.3104434907010014, 0.3104434907010014, 0.3104434907010014, 0.3104434907010014, 0.3104434907010014, 0.3104434907010014, 0.3104434907010014, 0.3104434907010014, 0.3104434907010014, 0.3104434907010014, 0.3104434907010014, 0.3104434907010014, 0.3104434907010014, 0.3104434907010014, 0.3104434907010014, 0.3104434907010014, 0.3104434907010014, 0.3104434907010014, 0.3104434907010014, 0.3104434907010014, 0.3104434907010014, 0.3104434907010014, 0.3104434907010014, 0.3104434907010014, 0.3104434907010014, 0.3104434907010014, 0.3104434907010014, 0.3104434907010014, 0.3104434907010014, 0.3104434907010014, 0.3104434907010014, 0.3104434907010014, 0.3104434907010014, 0.3104434907010014, 0.3104434907010014, 0.3104434907010014, 0.3104434907010014, 0.3104434907010014, 0.3104434907010014, 0.3104434907010014, 0.3104434907010014, 0.3104434907010014, 0.3104434907010014, 0.3104434907010014, 0.3104434907010014, 0.3104434907010014, 0.3104434907010014, 0.3104434907010014, 0.3104434907010014, 0.3104434907010014, 0.3104434907010014, 0.3104434907010014, 0.3104434907010014, 0.3104434907010014, 0.3104434907010014, 0.3104434907010014, 0.3104434907010014, 0.3104434907010014, 0.3104434907010014, 0.3104434907010014, 0.3104434907010014, 0.3104434907010014, 0.3104434907010014, 0.3104434907010014, 0.3104434907010014, 0.3104434907010014, 0.3104434907010014, 0.3104434907010014, 0.3104434907010014, 0.3104434907010014, 0.3104434907010014, 0.3104434907010014, 0.3104434907010014, 0.3104434907010014, 0.3104434907010014, 0.3104434907010014, 0.3104434907010014, 0.3104434907010014, 0.3104434907010014, 0.3104434907010014, 0.3104434907010014, 0.3104434907010014, 0.3104434907010014, 0.3104434907010014, 0.3104434907010014, 0.3104434907010014, 0.3104434907010014, 0.3104434907010014, 0.3104434907010014, 0.3104434907010014, 0.3104434907010014, 0.3104434907010014, 0.3104434907010014, 0.3104434907010014, 0.3104434907010014, 0.3104434907010014, 0.3104434907010014, 0.3104434907010014, 0.3104434907010014, 0.3104434907010014, 0.3104434907010014, 0.3104434907010014, 0.3104434907010014, 0.3104434907010014, 0.3104434907010014, 0.3104434907010014, 0.3104434907010014, 0.3104434907010014, 0.3104434907010014, 0.3104434907010014, 0.3104434907010014, 0.3104434907010014, 0.3104434907010014, 0.3104434907010014, 0.3104434907010014, 0.3104434907010014, 0.3104434907010014, 0.3104434907010014, 0.3104434907010014, 0.3104434907010014, 0.3104434907010014, 0.3104434907010014, 0.3104434907010014, 0.3104434907010014, 0.3104434907010014, 0.3104434907010014, 0.3104434907010014, 0.3104434907010014, 0.3104434907010014, 0.3104434907010014, 0.3104434907010014, 0.3104434907010014, 0.3104434907010014, 0.3104434907010014, 0.3104434907010014, 0.3104434907010014, 0.3104434907010014, 0.3104434907010014, 0.3104434907010014]\n"
          ]
        }
      ]
    },
    {
      "cell_type": "code",
      "source": [
        "c= get_max_bias_cluster(Clustered_shap_err_TNFP)\n",
        "\n",
        "Mean_error_rate_SE_TNFP = get_error_rate(Clustered_shap_err_TNFP, 'errors')\n",
        "\n",
        "print ('Mean error rate of SE_TPFN data set:', Mean_error_rate_SE_TNFP)\n",
        "\n",
        "print (f\" cluster {c} has the highest discrimination bias for TPFN data\")"
      ],
      "metadata": {
        "id": "kCsvihg7Vfsa",
        "colab": {
          "base_uri": "https://localhost:8080/"
        },
        "outputId": "1f46afd8-ba62-4549-d772-373aac4ae413"
      },
      "execution_count": null,
      "outputs": [
        {
          "output_type": "stream",
          "name": "stdout",
          "text": [
            "Mean error rate of SE_TPFN data set: 0.3104434907010014\n",
            " cluster (-2, 0) has the highest discrimination bias for TPFN data\n"
          ]
        }
      ]
    },
    {
      "cell_type": "markdown",
      "source": [
        "***SHAP AND ERROR ANOVA ON TNFP***"
      ],
      "metadata": {
        "id": "Gmb77gegVELS"
      }
    },
    {
      "cell_type": "code",
      "source": [
        "'''SHAP & ERROR COLUMNS FOR TNFP ANOVA'''\n",
        "groupsSE_tnfp = Clustered_shap_err_TNFP.groupby('clusters')['errors'].apply(list)\n",
        "anovaSE_tnfp = [np.array(groupsSE_tpfn) for groupsSE_tnfp in groupsSE_tnfp]\n",
        "\n",
        "f_stat, p_val = f_oneway(*anovaSE_tpfn)\n",
        "\n",
        "print('F-statistic:', f_stat)\n",
        "print('p-value:', p_val)\n",
        "\n",
        "alpha = 0.05\n",
        "if p_val < alpha:\n",
        "  print(\"there are statistically significant differences between the clusters.\")\n",
        "else:\n",
        "  print(\"there are no statistically significant differences between the clusters\")"
      ],
      "metadata": {
        "id": "1MO0-G5LTl74",
        "colab": {
          "base_uri": "https://localhost:8080/"
        },
        "outputId": "4b9ffaed-8999-4370-d282-74cef3cddbed"
      },
      "execution_count": null,
      "outputs": [
        {
          "output_type": "stream",
          "name": "stdout",
          "text": [
            "F-statistic: 0.09390631957908324\n",
            "p-value: 0.7593268629080284\n",
            "there are no statistically significant differences between the clusters\n"
          ]
        }
      ]
    },
    {
      "cell_type": "code",
      "source": [
        "Clustered_shap_err_TNFP.iloc[3]"
      ],
      "metadata": {
        "id": "RWe2NirFaX-S",
        "colab": {
          "base_uri": "https://localhost:8080/"
        },
        "outputId": "9599a445-8c50-4a3c-82c2-8c5a099c0100"
      },
      "execution_count": null,
      "outputs": [
        {
          "output_type": "execute_result",
          "data": {
            "text/plain": [
              "age                                      40.0\n",
              "decile_score                              1.0\n",
              "priors_count                              0.0\n",
              "sex_Female                                0.0\n",
              "race_African-American                     1.0\n",
              "race_Asian                                0.0\n",
              "race_Caucasian                            0.0\n",
              "race_Hispanic                             0.0\n",
              "race_Native American                      0.0\n",
              "race_Other                                0.0\n",
              "age_scaled                           0.224279\n",
              "decile_score_scaled                 -0.994168\n",
              "priors_count_scaled                 -0.640735\n",
              "sex_Female_scaled                   -0.532679\n",
              "race_African-American_scaled         1.085159\n",
              "race_Asian_scaled                   -0.053567\n",
              "race_Caucasian_scaled               -0.762527\n",
              "race_Hispanic_scaled                 -0.34018\n",
              "race_Native American_scaled         -0.065653\n",
              "race_Other_scaled                   -0.257607\n",
              "errors                                    0.0\n",
              "TP                                        0.0\n",
              "TN                                        1.0\n",
              "FN                                        0.0\n",
              "FP                                        0.0\n",
              "Error_Type                                 TN\n",
              "Shap_age                            -0.027134\n",
              "Shap_decile_score                   -0.070421\n",
              "Shap_priors_count                   -0.078453\n",
              "Shap_sex_Female                       0.01347\n",
              "Shap_race_African-American           0.018587\n",
              "Shap_race_Asian                      0.000124\n",
              "Shap_race_Caucasian                  0.046593\n",
              "Shap_race_Hispanic                   0.000247\n",
              "Shap_race_Native American                 0.0\n",
              "Shap_race_Other                      0.002307\n",
              "Shap_age_scaled                     -0.279174\n",
              "Shap_decile_score_scaled            -0.800271\n",
              "Shap_priors_count_scaled            -0.531185\n",
              "Shap_sex_Female_scaled               0.273211\n",
              "Shap_race_African-American_scaled    0.543617\n",
              "Shap_race_Asian_scaled              -0.054634\n",
              "Shap_race_Caucasian_scaled           1.949653\n",
              "Shap_race_Hispanic_scaled            0.065513\n",
              "Shap_race_Native American_scaled     0.042717\n",
              "Shap_race_Other_scaled               0.178203\n",
              "errors_scaled                        1.327722\n",
              "TP_scaled                           -0.573496\n",
              "TN_scaled                           -0.800528\n",
              "FN_scaled                           -0.492612\n",
              "FP_scaled                            2.236068\n",
              "clusters                                    0\n",
              "new_clusters                              1.0\n",
              "Name: 5, dtype: object"
            ]
          },
          "metadata": {},
          "execution_count": 75
        }
      ]
    },
    {
      "cell_type": "markdown",
      "source": [
        "# ERROR AND BASIC COLUMNS NO SHAP (SELMA)"
      ],
      "metadata": {
        "id": "mw7ZAR6tyVy0"
      }
    },
    {
      "cell_type": "code",
      "source": [
        "TPFN_init.iloc[3]"
      ],
      "metadata": {
        "id": "XXvWmKYGTEmh"
      },
      "execution_count": null,
      "outputs": []
    },
    {
      "cell_type": "code",
      "source": [
        "'''FE: FEATURES AND ERROR NO SHAP (Selma) '''\n",
        "columns_to_drop = SHAP_COL_Basic_scaled + SHAP_COL_Dummy_scaled\n",
        "\n",
        "FE_TPFN = TPFN_init.drop(columns_to_drop, axis=1) #scaled\n",
        "FE_TNFP = TNFP_init.drop(columns_to_drop, axis=1) #scaled\n",
        "\n",
        "FE_TPFN.iloc[3]\n",
        "#FE_TNFP.iloc[3]"
      ],
      "metadata": {
        "id": "AsgNawceyLEE"
      },
      "execution_count": null,
      "outputs": []
    },
    {
      "cell_type": "markdown",
      "source": [
        "***BASIC & ERROR K-MEANS ON TPFN***"
      ],
      "metadata": {
        "id": "EkE6JjyqWkda"
      }
    },
    {
      "cell_type": "code",
      "source": [
        "'''BASIC & ERROR K-MEANS ON TPFN'''\n",
        "TPFN_init = initialize_dataset(TPFN_unscaled, unscaled=True, meta_col=True, with_error_col=True, with_classes=True)\n",
        "hbac_kmeans(data = TPFN_init, columns_to_drop = ['SHAP_COL_Basic_scaled', 'SHAP_COL_Dummy_scaled'], error= 'FN', max_iter = 300, show_plot= True)\n",
        "plt.show()"
      ],
      "metadata": {
        "id": "dLI9A4oQUuBz"
      },
      "execution_count": null,
      "outputs": []
    },
    {
      "cell_type": "code",
      "source": [
        "c= get_max_bias_cluster(FE_TPFN)\n",
        "\n",
        "Mean_error_rate_FE_TPFN = get_error_rate(FE_TPFN)\n",
        "\n",
        "print ('Mean error rate of FE_TPFN data set:', Mean_error_rate_TPFN)\n",
        "\n",
        "print (f\" cluster {c} has the highest discrimination bias for FE_TPFN data\")"
      ],
      "metadata": {
        "id": "XTVkcvW0W-Ly"
      },
      "execution_count": null,
      "outputs": []
    },
    {
      "cell_type": "code",
      "source": [
        "FE_TPFN.iloc[3]"
      ],
      "metadata": {
        "id": "4tbusHs5Z4ot"
      },
      "execution_count": null,
      "outputs": []
    },
    {
      "cell_type": "markdown",
      "source": [
        "***BASIC & ERROR ANOVA ON TPFN***"
      ],
      "metadata": {
        "id": "rX0ccxkKW-du"
      }
    },
    {
      "cell_type": "code",
      "source": [
        "'''BASIC & ERROR COLUMNS FOR TPFN ANOVA'''\n",
        "groupsFE_tpfn = FE_TPFN.groupby('clusters')['FN'].apply(list)\n",
        "anovaFE_tpfn = [np.array(groupsFE_tpfn) for groupsFE_tpfn in groupsFE_tpfn]\n",
        "\n",
        "f_stat, p_val = f_oneway(*anovaFE_tpfn)\n",
        "\n",
        "print('F-statistic:', f_stat)\n",
        "print('p-value:', p_val)\n",
        "\n",
        "alpha = 0.05\n",
        "if p_val < alpha:\n",
        "  print(\"there are statistically significant differences between the clusters.\")\n",
        "else:\n",
        "  print(\"there are no statistically significant differences between the clusters\")"
      ],
      "metadata": {
        "id": "f01rws70U2pW"
      },
      "execution_count": null,
      "outputs": []
    },
    {
      "cell_type": "markdown",
      "source": [
        "***BASIC & ERROR K-MEANS ON TNFP***"
      ],
      "metadata": {
        "id": "MAgsRKChWtoY"
      }
    },
    {
      "cell_type": "code",
      "source": [
        "'''BASIC & ERROR COLUMNS FOR TNFP'''\n",
        "TNFP_init = initialize_dataset(TNFP_unscaled, unscaled=True, meta_col=True, with_error_col=True, with_classes=True)\n",
        "hbac_kmeans(data = TNFP_init, columns_to_drop= ['SHAP_COL_Basic_scaled', 'SHAP_COL_Dummy_scaled'], error= 'FP', max_iter = 300, show_plot= True)\n",
        "plt.show()"
      ],
      "metadata": {
        "id": "YCoY7c1iWOTn"
      },
      "execution_count": null,
      "outputs": []
    },
    {
      "cell_type": "code",
      "source": [
        "c= get_max_bias_cluster(FE_TNFP)\n",
        "\n",
        "Mean_error_rate_FE_TNFP = get_error_rate(FE_TNFP)\n",
        "\n",
        "print ('Mean error rate of FE_TNFP data set:', Mean_error_rate_TNFP)\n",
        "\n",
        "print (f\" cluster {c} has the highest discrimination bias for FE_TNFP data\")"
      ],
      "metadata": {
        "id": "TaYwVpvvbGp-"
      },
      "execution_count": null,
      "outputs": []
    },
    {
      "cell_type": "markdown",
      "source": [
        "***BASIC & ERROR ANOVA ON TNFP***"
      ],
      "metadata": {
        "id": "WzgRubwDXDzC"
      }
    },
    {
      "cell_type": "code",
      "source": [
        "'''BASIC & ERROR COLUMNS FOR TNFP ANOVA'''\n",
        "groupsFE_tnfp = FE_TNFP.groupby('clusters')['FP'].apply(list)\n",
        "anovaFE_tnfp = [np.array(groupsFE_tnfp) for groupsFE_tnfp in groupsFE_tnfp]\n",
        "\n",
        "f_stat, p_val = f_oneway(*anovaFE_tnfp)\n",
        "\n",
        "print('F-statistic:', f_stat)\n",
        "print('p-value:', p_val)\n",
        "\n",
        "alpha = 0.05\n",
        "if p_val < alpha:\n",
        "  print(\"there are statistically significant differences between the clusters.\")\n",
        "else:\n",
        "  print(\"there are no statistically significant differences between the clusters\")"
      ],
      "metadata": {
        "id": "B7VgDF_hXTag"
      },
      "execution_count": null,
      "outputs": []
    },
    {
      "cell_type": "markdown",
      "source": [
        "# SHAP & BASIC COLUMNS NO ERROR"
      ],
      "metadata": {
        "id": "noGzMCHLZCFg"
      }
    },
    {
      "cell_type": "code",
      "source": [
        "#TPFN_init.iloc[3]"
      ],
      "metadata": {
        "id": "hV_IWl5oM1J5"
      },
      "execution_count": null,
      "outputs": []
    },
    {
      "cell_type": "code",
      "source": [
        "'''FS: FEATURES AND SHAP NO ERROR '''\n",
        "columns_to_drop = ERROR_COL\n",
        "\n",
        "FS_TPFN = TPFN_init.drop(columns_to_drop, axis=1) #scaled\n",
        "FS_TNFP = TNFP_init.drop(columns_to_drop, axis=1) #scaled\n",
        "\n",
        "FS_TPFN = initialize_dataset(FS_TPFN, unscaled=True, meta_col=True, with_error_col= False, with_classes=True)\n",
        "FS_TNFP = initialize_dataset(FS_TNFP, unscaled=True, meta_col=True, with_error_col= False, with_classes=True)\n",
        "\n",
        "FS_TPFN.iloc[3]\n",
        "#FE_TNFP.iloc[3]"
      ],
      "metadata": {
        "id": "8a2F39IwZL0H"
      },
      "execution_count": null,
      "outputs": []
    },
    {
      "cell_type": "markdown",
      "source": [
        "***BASIC & SHAP KMEANS ON TPFN***"
      ],
      "metadata": {
        "id": "yAC7_HXkZ4Ma"
      }
    },
    {
      "cell_type": "code",
      "source": [
        "#Run it on TPFN_init and drop columns ERROR as you go through loop in clustering otherwise it doesn't work\n",
        "TPFN_init = initialize_dataset(TPFN_unscaled, unscaled=True, meta_col=True, with_error_col=False, with_classes=True)\n",
        "hbac_kmeans(data=TPFN_init, columns_to_drop= ['ERROR_COL'], error='FN', max_iter=300, show_plot=True)"
      ],
      "metadata": {
        "id": "fvyg_WyjBvOk"
      },
      "execution_count": null,
      "outputs": []
    },
    {
      "cell_type": "markdown",
      "source": [
        "***BASIC & SHAP ANOVA ON TPFN***"
      ],
      "metadata": {
        "id": "90ZKttYzaHBS"
      }
    },
    {
      "cell_type": "code",
      "source": [
        "#kept error_type in otherwise anova doesnt work\n",
        "groupsFS_tpfn = FS_TPFN.groupby('clusters')['Error_Type'].apply(list)\n",
        "anovaFS_tpfn = [np.array(groupsFS_tpfn) for groupsFS_tpfn in groupsSE_tpfn]\n",
        "\n",
        "f_stat, p_val = f_oneway(*anovaFS_tpfn)\n",
        "\n",
        "print('F-statistic:', f_stat)\n",
        "print('p-value:', p_val)\n",
        "\n",
        "alpha = 0.05\n",
        "if p_val < alpha:\n",
        "  print(\"there are statistically significant differences between the clusters.\")\n",
        "else:\n",
        "  print(\"there are no statistically significant differences between the clusters\")"
      ],
      "metadata": {
        "id": "SNKfBPv4LgPK"
      },
      "execution_count": null,
      "outputs": []
    },
    {
      "cell_type": "markdown",
      "source": [
        "***BASIC & SHAP KMEANS ON TNFP***"
      ],
      "metadata": {
        "id": "VOiqSQuEaJhS"
      }
    },
    {
      "cell_type": "code",
      "source": [
        "TNFP_init = initialize_dataset(TNFP_unscaled, unscaled=True, meta_col=True, with_error_col=False, with_classes=True)\n",
        "hbac_kmeans(data=TNFP_init, columns_to_drop=['ERROR_COL', 'META_COL'], error='FP', max_iter=300, show_plot=True)"
      ],
      "metadata": {
        "id": "9ZLm5zIFB8xw"
      },
      "execution_count": null,
      "outputs": []
    },
    {
      "cell_type": "markdown",
      "source": [
        "***BASIC & SHAP ANOVA ON TNFP***"
      ],
      "metadata": {
        "id": "ss9-OK4DaOBC"
      }
    },
    {
      "cell_type": "code",
      "source": [
        "#kept error_type in otherwise anova doesnt work\n",
        "groupsFS_tnfp = FS_TNFP.groupby('clusters')['FP'].apply(list)\n",
        "anovaFS_tnfp = [np.array(groupsFS_tnfp) for groupsFS_tnfp in groupsSE_tnfp]\n",
        "\n",
        "f_stat, p_val = f_oneway(*anovaFS_tnfp)\n",
        "\n",
        "print('F-statistic:', f_stat)\n",
        "print('p-value:', p_val)\n",
        "\n",
        "alpha = 0.05\n",
        "if p_val < alpha:\n",
        "  print(\"there are statistically significant differences between the clusters.\")\n",
        "else:\n",
        "  print(\"there are no statistically significant differences between the clusters\")"
      ],
      "metadata": {
        "id": "mWIfYLBlRxma"
      },
      "execution_count": null,
      "outputs": []
    },
    {
      "cell_type": "markdown",
      "source": [],
      "metadata": {
        "id": "Tt_6MrP6aQxN"
      }
    },
    {
      "cell_type": "markdown",
      "source": [
        "# ONLY SHAP COL"
      ],
      "metadata": {
        "id": "F0JbFgcaaeLj"
      }
    },
    {
      "cell_type": "code",
      "source": [
        "columns_to_drop = BASIC_COL_unscaled + DUMMY_unscaled + ERROR_COL\n",
        "S_TPFN = TPFN_init.drop(columns_to_drop, axis=1) #scaled\n",
        "S_TNFP = TNFP_init.drop(columns_to_drop, axis=1)\n",
        "\n",
        "S_TPFN.iloc[23]"
      ],
      "metadata": {
        "id": "DgGUQa87b3wH"
      },
      "execution_count": null,
      "outputs": []
    },
    {
      "cell_type": "markdown",
      "source": [
        "***SHAP KMEANS ON TPFN***"
      ],
      "metadata": {
        "id": "iOVUoxSna1vZ"
      }
    },
    {
      "cell_type": "code",
      "source": [
        "TPFN_init_S = initialize_dataset(TPFN_unscaled, unscaled=True, meta_col=True, with_error_col=False, with_classes=True)\n",
        "#pass original dataset and not SE_TPFN otherwise the clustering doesn't work\n",
        "hbac_kmeans(data = TPFN_init_S, columns_to_drop = ['BASIC_COL_unscaled', 'DUMMY_unscaled', 'ERROR_COL'], error= 'FN', max_iter = 300, show_plot= True)\n",
        "plt.show()"
      ],
      "metadata": {
        "id": "U8w5HmzrYtew"
      },
      "execution_count": null,
      "outputs": []
    },
    {
      "cell_type": "code",
      "source": [
        "MAXnegbias = get_max_bias_cluster(TPFN_init_S, bias_type='negative', baseline='all')\n",
        "#highest_biased_cluster = TPFN_init_S[TPFN_init_S['clusters'] == c]\n",
        "\n",
        "print ('cluster ID with the max negative bias is (1st score) against a minimum possible bias of (2nd score)', (max_neg_bias))\n",
        "\n",
        "MINnegbias = get_min_bias_cluster(TPFN_init_S, bias_type = 'negative', baseline = 'all')\n",
        "print ('cluster ID with the min negative bias is (1st score) against a maximum possible  ', (min_neg_bias))\n",
        "\n",
        "MAXposbias = get_max_bias_cluster(TPFN_init_S, bias_type='positive', baseline='all')\n",
        "print ('cluster ID with the max positive bias is (1st score) against a minimum possible bias of (2nd score)', (max_pos_bias))\n",
        "\n",
        "MINposbias = get_min_bias_cluster(TPFN_init_S, bias_type = 'positive', baseline = 'all')\n",
        "print ('cluster ID with the min positive bias is (1st score) against a maximum possible  ', (min_pos_bias))\n",
        "\n"
      ],
      "metadata": {
        "id": "Mi78iy49Uygd"
      },
      "execution_count": null,
      "outputs": []
    },
    {
      "cell_type": "markdown",
      "source": [
        "***SHAP ANOVA ON TPFN***"
      ],
      "metadata": {
        "id": "jLVxPgNUa5fd"
      }
    },
    {
      "cell_type": "code",
      "source": [
        "#kept error_type in otherwise anova doesnt work\n",
        "groupsS_tpfn = TPFN_init_S.groupby('clusters')['FN'].apply(list)\n",
        "\n",
        "# Check the number of groups\n",
        "print(\"Number of groups:\", len(groupsS_tpfn))\n",
        "\n",
        "anovaS_tpfn = [np.array(groupsS_tpfn) for groupsS_tpfn in groupsS_tpfn]\n",
        "\n",
        "# Proceed with ANOVA only if there are at least two groups\n",
        "if len(anovaS_tpfn) >= 2:\n",
        "    f_stat, p_val = f_oneway(*anovaS_tpfn)\n",
        "\n",
        "    print('F-statistic:', f_stat)\n",
        "    print('p-value:', p_val)\n",
        "\n",
        "    alpha = 0.05\n",
        "    if p_val < alpha:\n",
        "        print(\"there are statistically significant differences between the clusters.\")\n",
        "    else:\n",
        "        print(\"there are no statistically significant differences between the clusters\")\n",
        "else:\n",
        "    print(\"ANOVA cannot be performed with less than two groups.\")"
      ],
      "metadata": {
        "id": "EhjucG-7OMQJ"
      },
      "execution_count": null,
      "outputs": []
    },
    {
      "cell_type": "markdown",
      "source": [
        "***SHAP KMEANS ON TNFP***"
      ],
      "metadata": {
        "id": "ea1UDmdEa-wt"
      }
    },
    {
      "cell_type": "code",
      "source": [
        "TNFP_init = initialize_dataset(TNFP_unscaled, unscaled=True, meta_col=True, with_error_col=False, with_classes=True)\n",
        "hbac_kmeans(data = TNFP_init, columns_to_drop = ['BASIC_COL_unscaled', 'DUMMY_unscaled', 'ERROR_COL'], error= 'FP', max_iter = 300, show_plot= True)\n",
        "plt.show()"
      ],
      "metadata": {
        "id": "I_jRNKq9cDCT"
      },
      "execution_count": null,
      "outputs": []
    },
    {
      "cell_type": "code",
      "source": [
        "max_neg_bias = get_max_bias_cluster(TPFN_init_S, bias_type='negative', baseline='all')\n",
        "#highest_biased_cluster = TPFN_init_S[TPFN_init_S['clusters'] == c]\n",
        "\n",
        "print ('cluster ID with the max negative bias is (1st score) against a minimum possible bias of (2nd score)', (max_neg_bias))\n",
        "\n",
        "min_neg_bias = get_min_bias_cluster(TPFN_init_S, bias_type = 'negative', baseline = 'all')\n",
        "print ('cluster ID with the min negative bias is (1st score) against a maximum possible  ', (min_neg_bias))\n",
        "\n",
        "max_pos_bias = get_max_bias_cluster(TPFN_init_S, bias_type='positive', baseline='all')\n",
        "print ('cluster ID with the max positive bias is (1st score) against a minimum possible bias of (2nd score)', (max_pos_bias))\n",
        "\n",
        "min_pos_bias = get_min_bias_cluster(TPFN_init_S, bias_type = 'positive', baseline = 'all')\n",
        "print ('cluster ID with the min positive bias is (1st score) against a maximum possible  ', (min_pos_bias))\n",
        "\n"
      ],
      "metadata": {
        "id": "swNoy_gBZpC5"
      },
      "execution_count": null,
      "outputs": []
    },
    {
      "cell_type": "markdown",
      "source": [
        "***SHAP ANOVA ON TNFP***"
      ],
      "metadata": {
        "id": "F2VMD_1obCFf"
      }
    },
    {
      "cell_type": "markdown",
      "source": [
        "# ONLY BASIC COL"
      ],
      "metadata": {
        "id": "8leexXWfax1X"
      }
    },
    {
      "cell_type": "markdown",
      "source": [
        "***BASIC KMEANS ON TPFN***"
      ],
      "metadata": {
        "id": "vTVYFxxBbN8Z"
      }
    },
    {
      "cell_type": "markdown",
      "source": [
        "***BASIC ANOVA ON TPFN***"
      ],
      "metadata": {
        "id": "CAEpgQZMbRVr"
      }
    },
    {
      "cell_type": "markdown",
      "source": [
        "***BASIC KMEANS ON TNFP***"
      ],
      "metadata": {
        "id": "c2wsECfJbUs7"
      }
    },
    {
      "cell_type": "markdown",
      "source": [
        "***BASIC ANOVA ON TNFP***"
      ],
      "metadata": {
        "id": "bPkq8Ky7bYmw"
      }
    }
  ]
}